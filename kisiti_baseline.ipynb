{
  "nbformat": 4,
  "nbformat_minor": 0,
  "metadata": {
    "colab": {
      "provenance": [],
      "collapsed_sections": [],
      "machine_shape": "hm",
      "authorship_tag": "ABX9TyPtcNdYnc6gp9jMoy6BZRjD",
      "include_colab_link": true
    },
    "kernelspec": {
      "name": "python3",
      "display_name": "Python 3"
    },
    "language_info": {
      "name": "python"
    },
    "accelerator": "GPU"
  },
  "cells": [
    {
      "cell_type": "markdown",
      "metadata": {
        "id": "view-in-github",
        "colab_type": "text"
      },
      "source": [
        "<a href=\"https://colab.research.google.com/github/TacticalCoders/2022-kisti/blob/main/kisiti_baseline.ipynb\" target=\"_parent\"><img src=\"https://colab.research.google.com/assets/colab-badge.svg\" alt=\"Open In Colab\"/></a>"
      ]
    },
    {
      "cell_type": "markdown",
      "source": [
        "## 필요한 패키지 설치"
      ],
      "metadata": {
        "id": "EFwpGoOrFg5W"
      }
    },
    {
      "cell_type": "code",
      "source": [
        "# pytorch 1.8.1 설치\n",
        "!pip install torch==1.8.1+cu111 torchvision==0.9.1+cu111 torchaudio==0.8.1 -f https://download.pytorch.org/whl/torch_stable.html"
      ],
      "metadata": {
        "colab": {
          "base_uri": "https://localhost:8080/"
        },
        "id": "h7LodJQ-FkG1",
        "outputId": "7a2135cd-52d5-4f69-c100-903592886c5b"
      },
      "execution_count": 1,
      "outputs": [
        {
          "output_type": "stream",
          "name": "stdout",
          "text": [
            "Looking in indexes: https://pypi.org/simple, https://us-python.pkg.dev/colab-wheels/public/simple/\n",
            "Looking in links: https://download.pytorch.org/whl/torch_stable.html\n",
            "Requirement already satisfied: torch==1.8.1+cu111 in /usr/local/lib/python3.7/dist-packages (1.8.1+cu111)\n",
            "Requirement already satisfied: torchvision==0.9.1+cu111 in /usr/local/lib/python3.7/dist-packages (0.9.1+cu111)\n",
            "Requirement already satisfied: torchaudio==0.8.1 in /usr/local/lib/python3.7/dist-packages (0.8.1)\n",
            "Requirement already satisfied: typing-extensions in /usr/local/lib/python3.7/dist-packages (from torch==1.8.1+cu111) (4.1.1)\n",
            "Requirement already satisfied: numpy in /usr/local/lib/python3.7/dist-packages (from torch==1.8.1+cu111) (1.21.6)\n",
            "Requirement already satisfied: pillow>=4.1.1 in /usr/local/lib/python3.7/dist-packages (from torchvision==0.9.1+cu111) (7.1.2)\n"
          ]
        }
      ]
    },
    {
      "cell_type": "code",
      "source": [
        "!pip install config"
      ],
      "metadata": {
        "colab": {
          "base_uri": "https://localhost:8080/"
        },
        "id": "DvY0PQHOFodf",
        "outputId": "4c734c05-ca6c-4988-fc94-64817aeb22f5"
      },
      "execution_count": 2,
      "outputs": [
        {
          "output_type": "stream",
          "name": "stdout",
          "text": [
            "Looking in indexes: https://pypi.org/simple, https://us-python.pkg.dev/colab-wheels/public/simple/\n",
            "Requirement already satisfied: config in /usr/local/lib/python3.7/dist-packages (0.5.1)\n"
          ]
        }
      ]
    },
    {
      "cell_type": "code",
      "source": [
        "!pip install seqeval"
      ],
      "metadata": {
        "colab": {
          "base_uri": "https://localhost:8080/"
        },
        "id": "Lka1_GlRFrlR",
        "outputId": "9431cce5-fb3f-40c1-e3b8-e577eab85695"
      },
      "execution_count": 3,
      "outputs": [
        {
          "output_type": "stream",
          "name": "stdout",
          "text": [
            "Looking in indexes: https://pypi.org/simple, https://us-python.pkg.dev/colab-wheels/public/simple/\n",
            "Requirement already satisfied: seqeval in /usr/local/lib/python3.7/dist-packages (1.2.2)\n",
            "Requirement already satisfied: scikit-learn>=0.21.3 in /usr/local/lib/python3.7/dist-packages (from seqeval) (1.0.2)\n",
            "Requirement already satisfied: numpy>=1.14.0 in /usr/local/lib/python3.7/dist-packages (from seqeval) (1.21.6)\n",
            "Requirement already satisfied: joblib>=0.11 in /usr/local/lib/python3.7/dist-packages (from scikit-learn>=0.21.3->seqeval) (1.2.0)\n",
            "Requirement already satisfied: scipy>=1.1.0 in /usr/local/lib/python3.7/dist-packages (from scikit-learn>=0.21.3->seqeval) (1.7.3)\n",
            "Requirement already satisfied: threadpoolctl>=2.0.0 in /usr/local/lib/python3.7/dist-packages (from scikit-learn>=0.21.3->seqeval) (3.1.0)\n"
          ]
        }
      ]
    },
    {
      "cell_type": "code",
      "source": [
        "!pip install transformers"
      ],
      "metadata": {
        "colab": {
          "base_uri": "https://localhost:8080/"
        },
        "id": "afmj4bq_FtOd",
        "outputId": "d766618b-a2f6-4485-877c-d41f8aa55b31"
      },
      "execution_count": 4,
      "outputs": [
        {
          "output_type": "stream",
          "name": "stdout",
          "text": [
            "Looking in indexes: https://pypi.org/simple, https://us-python.pkg.dev/colab-wheels/public/simple/\n",
            "Requirement already satisfied: transformers in /usr/local/lib/python3.7/dist-packages (4.22.2)\n",
            "Requirement already satisfied: regex!=2019.12.17 in /usr/local/lib/python3.7/dist-packages (from transformers) (2022.6.2)\n",
            "Requirement already satisfied: requests in /usr/local/lib/python3.7/dist-packages (from transformers) (2.23.0)\n",
            "Requirement already satisfied: filelock in /usr/local/lib/python3.7/dist-packages (from transformers) (3.8.0)\n",
            "Requirement already satisfied: tokenizers!=0.11.3,<0.13,>=0.11.1 in /usr/local/lib/python3.7/dist-packages (from transformers) (0.12.1)\n",
            "Requirement already satisfied: pyyaml>=5.1 in /usr/local/lib/python3.7/dist-packages (from transformers) (6.0)\n",
            "Requirement already satisfied: tqdm>=4.27 in /usr/local/lib/python3.7/dist-packages (from transformers) (4.64.1)\n",
            "Requirement already satisfied: importlib-metadata in /usr/local/lib/python3.7/dist-packages (from transformers) (5.0.0)\n",
            "Requirement already satisfied: packaging>=20.0 in /usr/local/lib/python3.7/dist-packages (from transformers) (21.3)\n",
            "Requirement already satisfied: numpy>=1.17 in /usr/local/lib/python3.7/dist-packages (from transformers) (1.21.6)\n",
            "Requirement already satisfied: huggingface-hub<1.0,>=0.9.0 in /usr/local/lib/python3.7/dist-packages (from transformers) (0.10.0)\n",
            "Requirement already satisfied: typing-extensions>=3.7.4.3 in /usr/local/lib/python3.7/dist-packages (from huggingface-hub<1.0,>=0.9.0->transformers) (4.1.1)\n",
            "Requirement already satisfied: pyparsing!=3.0.5,>=2.0.2 in /usr/local/lib/python3.7/dist-packages (from packaging>=20.0->transformers) (3.0.9)\n",
            "Requirement already satisfied: zipp>=0.5 in /usr/local/lib/python3.7/dist-packages (from importlib-metadata->transformers) (3.8.1)\n",
            "Requirement already satisfied: certifi>=2017.4.17 in /usr/local/lib/python3.7/dist-packages (from requests->transformers) (2022.9.24)\n",
            "Requirement already satisfied: idna<3,>=2.5 in /usr/local/lib/python3.7/dist-packages (from requests->transformers) (2.10)\n",
            "Requirement already satisfied: urllib3!=1.25.0,!=1.25.1,<1.26,>=1.21.1 in /usr/local/lib/python3.7/dist-packages (from requests->transformers) (1.24.3)\n",
            "Requirement already satisfied: chardet<4,>=3.0.2 in /usr/local/lib/python3.7/dist-packages (from requests->transformers) (3.0.4)\n"
          ]
        }
      ]
    },
    {
      "cell_type": "code",
      "source": [
        "!pip install konlpy==0.5.2"
      ],
      "metadata": {
        "colab": {
          "base_uri": "https://localhost:8080/"
        },
        "id": "0GujZqokFvQp",
        "outputId": "c2753fb6-b9f4-4291-fe77-bc27dd441db1"
      },
      "execution_count": 5,
      "outputs": [
        {
          "output_type": "stream",
          "name": "stdout",
          "text": [
            "Looking in indexes: https://pypi.org/simple, https://us-python.pkg.dev/colab-wheels/public/simple/\n",
            "Requirement already satisfied: konlpy==0.5.2 in /usr/local/lib/python3.7/dist-packages (0.5.2)\n",
            "Requirement already satisfied: beautifulsoup4==4.6.0 in /usr/local/lib/python3.7/dist-packages (from konlpy==0.5.2) (4.6.0)\n",
            "Requirement already satisfied: colorama in /usr/local/lib/python3.7/dist-packages (from konlpy==0.5.2) (0.4.5)\n",
            "Requirement already satisfied: lxml>=4.1.0 in /usr/local/lib/python3.7/dist-packages (from konlpy==0.5.2) (4.9.1)\n",
            "Requirement already satisfied: JPype1>=0.7.0 in /usr/local/lib/python3.7/dist-packages (from konlpy==0.5.2) (1.4.0)\n",
            "Requirement already satisfied: numpy>=1.6 in /usr/local/lib/python3.7/dist-packages (from konlpy==0.5.2) (1.21.6)\n",
            "Requirement already satisfied: tweepy>=3.7.0 in /usr/local/lib/python3.7/dist-packages (from konlpy==0.5.2) (3.10.0)\n",
            "Requirement already satisfied: typing-extensions in /usr/local/lib/python3.7/dist-packages (from JPype1>=0.7.0->konlpy==0.5.2) (4.1.1)\n",
            "Requirement already satisfied: six>=1.10.0 in /usr/local/lib/python3.7/dist-packages (from tweepy>=3.7.0->konlpy==0.5.2) (1.15.0)\n",
            "Requirement already satisfied: requests-oauthlib>=0.7.0 in /usr/local/lib/python3.7/dist-packages (from tweepy>=3.7.0->konlpy==0.5.2) (1.3.1)\n",
            "Requirement already satisfied: requests[socks]>=2.11.1 in /usr/local/lib/python3.7/dist-packages (from tweepy>=3.7.0->konlpy==0.5.2) (2.23.0)\n",
            "Requirement already satisfied: oauthlib>=3.0.0 in /usr/local/lib/python3.7/dist-packages (from requests-oauthlib>=0.7.0->tweepy>=3.7.0->konlpy==0.5.2) (3.2.1)\n",
            "Requirement already satisfied: idna<3,>=2.5 in /usr/local/lib/python3.7/dist-packages (from requests[socks]>=2.11.1->tweepy>=3.7.0->konlpy==0.5.2) (2.10)\n",
            "Requirement already satisfied: certifi>=2017.4.17 in /usr/local/lib/python3.7/dist-packages (from requests[socks]>=2.11.1->tweepy>=3.7.0->konlpy==0.5.2) (2022.9.24)\n",
            "Requirement already satisfied: chardet<4,>=3.0.2 in /usr/local/lib/python3.7/dist-packages (from requests[socks]>=2.11.1->tweepy>=3.7.0->konlpy==0.5.2) (3.0.4)\n",
            "Requirement already satisfied: urllib3!=1.25.0,!=1.25.1,<1.26,>=1.21.1 in /usr/local/lib/python3.7/dist-packages (from requests[socks]>=2.11.1->tweepy>=3.7.0->konlpy==0.5.2) (1.24.3)\n",
            "Requirement already satisfied: PySocks!=1.5.7,>=1.5.6 in /usr/local/lib/python3.7/dist-packages (from requests[socks]>=2.11.1->tweepy>=3.7.0->konlpy==0.5.2) (1.7.1)\n"
          ]
        }
      ]
    },
    {
      "cell_type": "markdown",
      "source": [
        "### mecab 설치\n",
        "kisti 전용 토크나이저를 사용하기 위해 설치 필요"
      ],
      "metadata": {
        "id": "Sa2s-U8xFxG-"
      }
    },
    {
      "cell_type": "code",
      "source": [
        "!apt-get update\n",
        "!apt-get install g++ openjdk-8-jdk \n",
        "!pip3 install konlpy JPype1-py3\n",
        "!bash <(curl -s https://raw.githubusercontent.com/konlpy/konlpy/master/scripts/mecab.sh)"
      ],
      "metadata": {
        "colab": {
          "base_uri": "https://localhost:8080/"
        },
        "id": "vOwJcKfVFys8",
        "outputId": "72d439aa-0189-4f19-90fc-d698e8f04605"
      },
      "execution_count": 6,
      "outputs": [
        {
          "output_type": "stream",
          "name": "stdout",
          "text": [
            "Hit:1 https://cloud.r-project.org/bin/linux/ubuntu bionic-cran40/ InRelease\n",
            "Hit:2 http://ppa.launchpad.net/c2d4u.team/c2d4u4.0+/ubuntu bionic InRelease\n",
            "Get:3 http://security.ubuntu.com/ubuntu bionic-security InRelease [88.7 kB]\n",
            "Ign:4 https://developer.download.nvidia.com/compute/machine-learning/repos/ubuntu1804/x86_64  InRelease\n",
            "Hit:5 https://developer.download.nvidia.com/compute/cuda/repos/ubuntu1804/x86_64  InRelease\n",
            "Hit:6 https://developer.download.nvidia.com/compute/machine-learning/repos/ubuntu1804/x86_64  Release\n",
            "Hit:7 http://archive.ubuntu.com/ubuntu bionic InRelease\n",
            "Get:8 http://archive.ubuntu.com/ubuntu bionic-updates InRelease [88.7 kB]\n",
            "Hit:9 http://ppa.launchpad.net/cran/libgit2/ubuntu bionic InRelease\n",
            "Hit:11 http://ppa.launchpad.net/deadsnakes/ppa/ubuntu bionic InRelease\n",
            "Hit:12 http://ppa.launchpad.net/graphics-drivers/ppa/ubuntu bionic InRelease\n",
            "Get:13 http://archive.ubuntu.com/ubuntu bionic-backports InRelease [83.3 kB]\n",
            "Fetched 261 kB in 2s (138 kB/s)\n",
            "Reading package lists... Done\n",
            "Reading package lists... Done\n",
            "Building dependency tree       \n",
            "Reading state information... Done\n",
            "g++ is already the newest version (4:7.4.0-1ubuntu2.3).\n",
            "openjdk-8-jdk is already the newest version (8u342-b07-0ubuntu1~18.04).\n",
            "The following package was automatically installed and is no longer required:\n",
            "  libnvidia-common-460\n",
            "Use 'apt autoremove' to remove it.\n",
            "0 upgraded, 0 newly installed, 0 to remove and 22 not upgraded.\n",
            "Looking in indexes: https://pypi.org/simple, https://us-python.pkg.dev/colab-wheels/public/simple/\n",
            "Requirement already satisfied: konlpy in /usr/local/lib/python3.7/dist-packages (0.5.2)\n",
            "Requirement already satisfied: JPype1-py3 in /usr/local/lib/python3.7/dist-packages (0.5.5.4)\n",
            "Requirement already satisfied: lxml>=4.1.0 in /usr/local/lib/python3.7/dist-packages (from konlpy) (4.9.1)\n",
            "Requirement already satisfied: JPype1>=0.7.0 in /usr/local/lib/python3.7/dist-packages (from konlpy) (1.4.0)\n",
            "Requirement already satisfied: tweepy>=3.7.0 in /usr/local/lib/python3.7/dist-packages (from konlpy) (3.10.0)\n",
            "Requirement already satisfied: colorama in /usr/local/lib/python3.7/dist-packages (from konlpy) (0.4.5)\n",
            "Requirement already satisfied: numpy>=1.6 in /usr/local/lib/python3.7/dist-packages (from konlpy) (1.21.6)\n",
            "Requirement already satisfied: beautifulsoup4==4.6.0 in /usr/local/lib/python3.7/dist-packages (from konlpy) (4.6.0)\n",
            "Requirement already satisfied: typing-extensions in /usr/local/lib/python3.7/dist-packages (from JPype1>=0.7.0->konlpy) (4.1.1)\n",
            "Requirement already satisfied: requests[socks]>=2.11.1 in /usr/local/lib/python3.7/dist-packages (from tweepy>=3.7.0->konlpy) (2.23.0)\n",
            "Requirement already satisfied: six>=1.10.0 in /usr/local/lib/python3.7/dist-packages (from tweepy>=3.7.0->konlpy) (1.15.0)\n",
            "Requirement already satisfied: requests-oauthlib>=0.7.0 in /usr/local/lib/python3.7/dist-packages (from tweepy>=3.7.0->konlpy) (1.3.1)\n",
            "Requirement already satisfied: oauthlib>=3.0.0 in /usr/local/lib/python3.7/dist-packages (from requests-oauthlib>=0.7.0->tweepy>=3.7.0->konlpy) (3.2.1)\n",
            "Requirement already satisfied: chardet<4,>=3.0.2 in /usr/local/lib/python3.7/dist-packages (from requests[socks]>=2.11.1->tweepy>=3.7.0->konlpy) (3.0.4)\n",
            "Requirement already satisfied: certifi>=2017.4.17 in /usr/local/lib/python3.7/dist-packages (from requests[socks]>=2.11.1->tweepy>=3.7.0->konlpy) (2022.9.24)\n",
            "Requirement already satisfied: urllib3!=1.25.0,!=1.25.1,<1.26,>=1.21.1 in /usr/local/lib/python3.7/dist-packages (from requests[socks]>=2.11.1->tweepy>=3.7.0->konlpy) (1.24.3)\n",
            "Requirement already satisfied: idna<3,>=2.5 in /usr/local/lib/python3.7/dist-packages (from requests[socks]>=2.11.1->tweepy>=3.7.0->konlpy) (2.10)\n",
            "Requirement already satisfied: PySocks!=1.5.7,>=1.5.6 in /usr/local/lib/python3.7/dist-packages (from requests[socks]>=2.11.1->tweepy>=3.7.0->konlpy) (1.7.1)\n",
            "mecab-ko is already installed\n",
            "mecab-ko-dic is already installed\n",
            "mecab-python is already installed\n",
            "Done.\n"
          ]
        }
      ]
    },
    {
      "cell_type": "markdown",
      "source": [
        "## 구글 드라이브 마운트\n",
        "\n",
        "데이터셋, 어휘사전 등의 파일을 위해 구글 드라이브 마운트"
      ],
      "metadata": {
        "id": "We5bS3dhMOR_"
      }
    },
    {
      "cell_type": "code",
      "source": [
        "from google.colab import drive\n",
        "drive.mount(\"/content/drive\")"
      ],
      "metadata": {
        "colab": {
          "base_uri": "https://localhost:8080/"
        },
        "id": "3D0Jg-N6MXjA",
        "outputId": "15aebece-047f-4353-dcf2-948884fab0bb"
      },
      "execution_count": 7,
      "outputs": [
        {
          "output_type": "stream",
          "name": "stdout",
          "text": [
            "Drive already mounted at /content/drive; to attempt to forcibly remount, call drive.mount(\"/content/drive\", force_remount=True).\n"
          ]
        }
      ]
    },
    {
      "cell_type": "markdown",
      "source": [
        "### import"
      ],
      "metadata": {
        "id": "R433xH9QGm-x"
      }
    },
    {
      "cell_type": "code",
      "source": [
        "import torch\n",
        "import torch.nn as nn\n",
        "import torch.nn.functional as F\n",
        "from torch.utils.data import TensorDataset\n",
        "from torch.utils.data import DataLoader, RandomSampler, SequentialSampler\n",
        "\n",
        "import os\n",
        "import config\n",
        "from tqdm import tqdm\n",
        "import json\n",
        "\n",
        "from sklearn.metrics import accuracy_score\n",
        "from sklearn.metrics import precision_score, recall_score, f1_score\n",
        "#from seqeval.metrics import precision_score, recall_score, f1_score\n",
        "\n",
        "import numpy as np\n",
        "from tqdm import tqdm\n",
        "import argparse\n",
        "\n",
        "import transformers\n",
        "from transformers import AutoConfig, AutoModel, AutoTokenizer\n",
        "from transformers.optimization import AdamW, get_linear_schedule_with_warmup"
      ],
      "metadata": {
        "id": "lNQitIztGr6O"
      },
      "execution_count": 8,
      "outputs": []
    },
    {
      "cell_type": "markdown",
      "source": [
        "## config.py"
      ],
      "metadata": {
        "id": "x-p2U7kpH1j8"
      }
    },
    {
      "cell_type": "code",
      "source": [
        "# root_dir = os.path.dirname(os.path.abspath(__file__))\n",
        "# root_dir = os.path.abspath('') # 현재 스크립트가 실행되는 위치\n",
        "# cache_dir = os.path.join(root_dir, \"cache\")\n",
        "# output_dir = os.path.join(root_dir, \"학습된 모델 파일 이름\") # 저장할 파일 이름 지정\n",
        "# data_dir = os.path.join(root_dir, \"data\")\n",
        "root_dir = '/content/drive/MyDrive/kisti_baseline'\n",
        "cache_dir = root_dir + \"/cache\"\n",
        "output_dir = root_dir + \"/학습된 모델 파일 이름\" # 추후 저장될 모델의 이름 지정해야 함\n",
        "data_dir = root_dir + \"/data\""
      ],
      "metadata": {
        "id": "DEA9Y3FiH4i1"
      },
      "execution_count": 9,
      "outputs": []
    },
    {
      "cell_type": "code",
      "source": [
        "print(\"root_dir:\", root_dir)\n",
        "print(\"cache_dir:\", cache_dir)\n",
        "print(\"output_dir:\", output_dir)\n",
        "print(\"data_dir:\",data_dir)"
      ],
      "metadata": {
        "colab": {
          "base_uri": "https://localhost:8080/"
        },
        "id": "VOn7T7fKIZwX",
        "outputId": "c928f138-ef93-48b3-9546-dde425019024"
      },
      "execution_count": 10,
      "outputs": [
        {
          "output_type": "stream",
          "name": "stdout",
          "text": [
            "root_dir: /content/drive/MyDrive/kisti_baseline\n",
            "cache_dir: /content/drive/MyDrive/kisti_baseline/cache\n",
            "output_dir: /content/drive/MyDrive/kisti_baseline/학습된 모델 파일 이름\n",
            "data_dir: /content/drive/MyDrive/kisti_baseline/data\n"
          ]
        }
      ]
    },
    {
      "cell_type": "code",
      "source": [
        "# root_dir로 실행위치 이동\n",
        "%cd /content/drive/MyDrive/kisti_baseline"
      ],
      "metadata": {
        "colab": {
          "base_uri": "https://localhost:8080/"
        },
        "id": "zW4bNyEXOXDc",
        "outputId": "8c0f4220-254b-43d0-984c-73b74d3311fd"
      },
      "execution_count": 11,
      "outputs": [
        {
          "output_type": "stream",
          "name": "stdout",
          "text": [
            "/content/drive/MyDrive/kisti_baseline\n"
          ]
        }
      ]
    },
    {
      "cell_type": "markdown",
      "source": [
        "## Mecab에 사용자 사전 추가\n",
        "\n",
        "\n",
        "\n",
        "*   pap_all_mecab_dic.csv\n",
        "*   pat_all_mecab_dic.csv\n",
        "\n",
        "을 /tmp/mecab-ko-dic-2.1.1-20180720으로 복사.\n",
        "\n",
        "참고로 kisti_tokenization에 mecab 경로 역시 /tmp/mecab-ko-dic-2.1.1-20180720으로 지정했음.\n"
      ],
      "metadata": {
        "id": "gL4ZoMsiTmNJ"
      }
    },
    {
      "cell_type": "code",
      "source": [
        "%cp pap_all_mecab_dic.csv /tmp/mecab-ko-dic-2.1.1-20180720\n",
        "%cp pat_all_mecab_dic.csv /tmp/mecab-ko-dic-2.1.1-20180720"
      ],
      "metadata": {
        "id": "wRBYMjLXUr8x"
      },
      "execution_count": 12,
      "outputs": []
    },
    {
      "cell_type": "markdown",
      "source": [
        "## preprocessing.py\n",
        "\n",
        "데이터셋을 읽어와서 토큰화 진행 후 데이터셋 클래스로 반환.\n",
        "\n",
        "다만 2022년에는 kisti에서 지정한 토크나이저를 이용해야 하므로 수정함.\n",
        "\n",
        "이전 토크나이저는 단어 단위(\"sentence\")로 토크나이저에 입력, 하지만 kisti 토크나이저는 문장(\"origin_sent\")만 넣어주면 되므로 이에 맞게 수정."
      ],
      "metadata": {
        "id": "Xus4GMHjGLJp"
      }
    },
    {
      "cell_type": "code",
      "source": [
        "\"\"\"\n",
        "  입력 문장, 대분류, 세부분류 태그를 전처리 코드\n",
        "\"\"\"\n",
        "\n",
        "fine_vocab_path = data_dir + \"/fine_vocab.txt\"\n",
        "coarse_vocab_path = data_dir + \"/coarse_vocab.txt\"\n",
        "\n",
        "fine_vocab_map_str = {}\n",
        "coarse_vocab_map_str = {}\n",
        "\n",
        "with open(fine_vocab_path, 'r', encoding='utf-8') as vocab:\n",
        "    for label in vocab:\n",
        "        label = label.strip()\n",
        "        fine_vocab_map_str[label] = len(fine_vocab_map_str)\n",
        "print(fine_vocab_map_str)\n",
        "\n",
        "with open(coarse_vocab_path, 'r', encoding='utf-8') as vocab:\n",
        "    for label in vocab:\n",
        "        label = label.strip()\n",
        "        coarse_vocab_map_str[label] = len(coarse_vocab_map_str)\n",
        "print(coarse_vocab_map_str)\n",
        "\n",
        "# 학습 or 평가 데이터를 읽어 리스트에 저장\n",
        "def read_data(file_path, mode):\n",
        "    datas = []\n",
        "    with open(file_path, \"r\", encoding=\"utf8\") as json_file:\n",
        "        for index, json_line in enumerate(tqdm(json_file, desc='read_data')):\n",
        "            json_data = json.loads(json_line)\n",
        "\n",
        "            origin_sent = json_data[\"sentence\"]\n",
        "            # sentence = json_data[\"sentence\"].split(\" \")\n",
        "            sentence = \"\"\n",
        "            coarse_tag = json_data[\"coarse_tag\"]\n",
        "            fine_tag = json_data[\"fine_tag\"]\n",
        "\n",
        "            coarse_tag = coarse_vocab_map_str[coarse_tag]\n",
        "            fine_tag = fine_vocab_map_str[fine_tag]\n",
        "\n",
        "            datas.append((origin_sent, sentence, fine_tag, coarse_tag))\n",
        "\n",
        "    return datas\n",
        "\n",
        "\n",
        "def convert_data2dataset(datas, tokenizer, max_length, coarse_tags, fine_tags, mode):\n",
        "    total_input_ids, total_attention_mask, total_token_type_ids, total_coarse_tags, total_coarse_seq, total_fine_tags, total_fine_seq, total_word_seq = [], [], [], [], [], [], [], []\n",
        "\n",
        "    if mode == \"analyze\":\n",
        "        total_fine_tags = None\n",
        "\n",
        "    for index, data in enumerate(tqdm(datas, desc=\"convert_data2dataset\")):\n",
        "        sentence = []\n",
        "        fine_tag = []\n",
        "        coarse_tag = []\n",
        "\n",
        "        if mode == \"train\" or mode == \"test\":\n",
        "            origin_sent, sentence, fine_tag, coarse_tag = data\n",
        "\n",
        "        tokens = []\n",
        "        fine_ids = []\n",
        "\n",
        "        # for word in sentence: # 여기서 sentence는 공백으로 split된 단어들의 리스트임.\n",
        "        #     word_tokens = tokenizer.tokenize(word.lower())\n",
        "        #     tokens.extend(word_tokens)\n",
        "\n",
        "        tokens = tokenizer.tokenize(origin_sent)\n",
        "\n",
        "        tokens = [\"[CLS]\"] + tokens\n",
        "        tokens = tokens[:max_length-1]\n",
        "        tokens.append(\"[SEP]\")\n",
        "\n",
        "        input_ids = sum([tokenizer.convert_tokens_to_ids([token]) for token in tokens],[])\n",
        "\n",
        "        assert len(input_ids) <= max_length\n",
        "\n",
        "        attention_mask = [1] * len(input_ids)\n",
        "        token_type_ids = [0] * len(input_ids)\n",
        "\n",
        "        padding = [0] * (max_length - len(input_ids))\n",
        "\n",
        "        total_word_seq.append(len(input_ids))\n",
        "\n",
        "        input_ids += padding\n",
        "        attention_mask += padding\n",
        "        token_type_ids += padding\n",
        "\n",
        "        total_input_ids.append(input_ids)\n",
        "        total_attention_mask.append(attention_mask)\n",
        "        total_token_type_ids.append(token_type_ids)\n",
        "\n",
        "        total_coarse_seq.append([i for i in range(coarse_tags)])\n",
        "        total_fine_seq.append([i for i in range(fine_tags)])\n",
        "\n",
        "        total_coarse_tags.append(coarse_tag)\n",
        "        total_fine_tags.append(fine_tag)\n",
        "\n",
        "    total_input_ids = torch.tensor(total_input_ids, dtype=torch.long)\n",
        "    total_attention_mask = torch.tensor(total_attention_mask, dtype=torch.long)\n",
        "    total_token_type_ids = torch.tensor(total_token_type_ids, dtype=torch.long)\n",
        "\n",
        "    total_coarse_seq = torch.tensor(total_coarse_seq, dtype=torch.long)\n",
        "    total_fine_seq = torch.tensor(total_fine_seq, dtype=torch.long)\n",
        "\n",
        "    total_word_seq = torch.tensor(total_word_seq, dtype=torch.long)\n",
        "\n",
        "    if mode == \"train\" or mode == \"test\":\n",
        "        total_coarse_tags = torch.tensor(total_coarse_tags, dtype=torch.long)\n",
        "        total_fine_tags = torch.tensor(total_fine_tags, dtype=torch.long)\n",
        "\n",
        "        dataset = TensorDataset(total_input_ids, total_attention_mask, total_token_type_ids, total_coarse_tags,\n",
        "                            total_coarse_seq, total_fine_tags, total_fine_seq, total_word_seq)\n",
        "        \n",
        "    return dataset\n"
      ],
      "metadata": {
        "colab": {
          "base_uri": "https://localhost:8080/"
        },
        "id": "darRGPDPGY42",
        "outputId": "48ec1d31-6f54-4567-a1cd-916e3bcb0a50"
      },
      "execution_count": 13,
      "outputs": [
        {
          "output_type": "stream",
          "name": "stdout",
          "text": [
            "{'문제 정의': 0, '가설 설정': 1, '기술 정의': 2, '제안 방법': 3, '대상 데이터': 4, '데이터처리': 5, '이론/모형': 6, '성능/효과': 7, '후속연구': 8}\n",
            "{'연구 목적': 0, '연구 방법': 1, '연구 결과': 2}\n"
          ]
        }
      ]
    },
    {
      "cell_type": "markdown",
      "source": [
        "## model.py\n",
        "\n",
        "2021 수상작에서 설계한 모델"
      ],
      "metadata": {
        "id": "mxH8MVBEG-pn"
      }
    },
    {
      "cell_type": "code",
      "source": [
        "\"\"\"\n",
        "    대분류/세부분류 모델\n",
        "\"\"\"\n",
        "class SequenceClassification(nn.Module):\n",
        "    def __init__(self, config, model, coarse_emb_size, coarse_size, fine_emb_size, fine_size, lstm_hidden, num_layer, bilstm_flag):\n",
        "        super().__init__()\n",
        "        self.config = config\n",
        "\n",
        "        self.model = model\n",
        "\n",
        "        assert fine_emb_size == lstm_hidden * 2, \"Please set score-embedding-size to twice the lstm-hidden-size\"\n",
        "\n",
        "        # 분류할 라벨의 개수\n",
        "        #self.num_labels = config.num_labels\n",
        "\n",
        "        self.n_hidden = lstm_hidden\n",
        "\n",
        "        self.coarse_emb = nn.Embedding(coarse_size, coarse_emb_size, scale_grad_by_freq=True)\n",
        "        self.fine_emb = nn.Embedding(fine_size, fine_emb_size, scale_grad_by_freq=True)\n",
        "\n",
        "        self.num_layers = num_layer\n",
        "        self.bidirectional = 2 if bilstm_flag else 1\n",
        "\n",
        "        self.coarse_label_lstm_first = nn.LSTM(config.hidden_size, self.n_hidden, bidirectional=True, batch_first=True)\n",
        "        self.coarse_label_lstm_last = nn.LSTM(lstm_hidden * 4, self.n_hidden, num_layers=self.num_layers, batch_first=True, bidirectional=bilstm_flag)\n",
        "\n",
        "        ## 사전학습 언어모델 : base = lstm_hidden * 5 / large = lstm_hidden * 6\n",
        "        self.fine_label_lstm_first = nn.LSTM(lstm_hidden * 5, self.n_hidden, bidirectional=True, batch_first=True)\n",
        "\n",
        "        self.fine_label_lstm_last = nn.LSTM(lstm_hidden * 4, self.n_hidden, num_layers=self.num_layers, batch_first=True, bidirectional=bilstm_flag)\n",
        "\n",
        "        self.coarse_q_liner = nn.Linear(self.n_hidden * 2, self.n_hidden * 2)\n",
        "        self.coarse_k_liner = nn.Linear(self.n_hidden * 2, self.n_hidden * 2)\n",
        "        self.coarse_v_liner = nn.Linear(self.n_hidden * 2, self.n_hidden * 2)\n",
        "\n",
        "        self.fine_q_liner = nn.Linear(self.n_hidden * 2, self.n_hidden * 2)\n",
        "        self.fine_k_liner = nn.Linear(self.n_hidden * 2, self.n_hidden * 2)\n",
        "        self.fine_v_liner = nn.Linear(self.n_hidden * 2, self.n_hidden * 2)\n",
        "\n",
        "        self.dropout = nn.Dropout(config.hidden_dropout_prob)\n",
        "\n",
        "        self.softmax = nn.Softmax(dim=-1)\n",
        "\n",
        "    def forward(self, input_ids=None, attention_mask=None, token_type_ids=None, coarse_labels=None, coarse_label_seq_tensor=None, fine_labels=None, fine_label_seq_tensor=None, word_seq_lengths=None):\n",
        "\n",
        "        discriminator_hidden_states = self.model(input_ids, attention_mask)\n",
        "\n",
        "        # (batch_size, max_length, hidden_size)\n",
        "        discriminator_hidden_states = discriminator_hidden_states[0]\n",
        "\n",
        "        coarse_embs = self.coarse_emb(coarse_label_seq_tensor)\n",
        "        fine_embs = self.fine_emb(fine_label_seq_tensor)\n",
        "\n",
        "        hidden = None\n",
        "        scaler = self.n_hidden ** 0.5\n",
        "\n",
        "        \"\"\"\n",
        "        coarse tag predict layer\n",
        "        \"\"\"\n",
        "        coarse_lstm_outputs, hidden = self.coarse_label_lstm_first(discriminator_hidden_states, hidden)\n",
        "        coarse_lstm_outputs = self.dropout(coarse_lstm_outputs)\n",
        "\n",
        "        coarse_q = self.coarse_q_liner(coarse_lstm_outputs)\n",
        "        coarse_k = self.coarse_k_liner(coarse_embs)\n",
        "        coarse_v = self.coarse_v_liner(coarse_embs)\n",
        "\n",
        "        coarse_attention_score = coarse_q.matmul(coarse_k.permute(0, 2, 1)) / scaler\n",
        "        coarse_attention_align = self.softmax(coarse_attention_score)\n",
        "\n",
        "        coarse_attention_output = coarse_attention_align.matmul(coarse_v)\n",
        "        coarse_attention_output = self.dropout(coarse_attention_output)\n",
        "\n",
        "        coarse_lstm_outputs = torch.cat([coarse_lstm_outputs, coarse_attention_output], dim=-1)\n",
        "        coarse_lstm_outputs, hidden = self.coarse_label_lstm_last(coarse_lstm_outputs, hidden)\n",
        "        coarse_lstm_outputs = self.dropout(coarse_lstm_outputs)\n",
        "\n",
        "        coarse_q = self.coarse_q_liner(coarse_lstm_outputs)\n",
        "        coarse_k = self.coarse_k_liner(coarse_embs)\n",
        "\n",
        "        coarse_attention_score = coarse_q.matmul(coarse_k.permute(0, 2, 1)) / scaler\n",
        "        coarse_attention_score = self.dropout(coarse_attention_score)\n",
        "\n",
        "        final_coarse_attention_score = coarse_attention_score[:, 0, :]\n",
        "\n",
        "        \"\"\"\n",
        "        coarse tag & fine tag concat\n",
        "        \"\"\"\n",
        "        coarse_attention_score = coarse_attention_score.matmul(coarse_embs) # [batch_size, max_length, max_length]\n",
        "        coarse_attention_score = torch.cat([discriminator_hidden_states, coarse_attention_score], dim=-1)\n",
        "\n",
        "        \"\"\"\n",
        "        fine tag predict layer\n",
        "        \"\"\"\n",
        "        fine_lstm_outputs, hidden = self.fine_label_lstm_first(coarse_attention_score, hidden)\n",
        "        fine_lstm_outputs = self.dropout(fine_lstm_outputs)\n",
        "\n",
        "        fine_q = self.fine_q_liner(fine_lstm_outputs)  # [batch_size, max_length]\n",
        "        fine_k = self.fine_k_liner(fine_embs)  # [batch_size, tag_size, max_length]\n",
        "        fine_v = self.fine_v_liner(fine_embs)  # [tag_size, max_length]\n",
        "\n",
        "        fine_attention_score = fine_q.matmul(fine_k.permute(0, 2, 1)) / scaler\n",
        "        fine_attention_align = self.softmax(fine_attention_score)  # [batch_size, tag_size]\n",
        "\n",
        "        fine_attention_output = fine_attention_align.matmul(fine_v)\n",
        "        fine_attention_output = self.dropout(fine_attention_output)  # [batch_size, max_length]\n",
        "\n",
        "        fine_lstm_outputs = torch.cat([fine_lstm_outputs, fine_attention_output], dim=-1)\n",
        "        fine_lstm_outputs, hidden = self.fine_label_lstm_last(fine_lstm_outputs, hidden)\n",
        "        fine_lstm_outputs = self.dropout(fine_lstm_outputs)\n",
        "\n",
        "        fine_q = self.fine_q_liner(fine_lstm_outputs)\n",
        "        fine_k = self.fine_k_liner(fine_embs)\n",
        "\n",
        "        fine_attention_score = fine_q.matmul(fine_k.permute(0, 2, 1)) / scaler\n",
        "        fine_attention_score = self.dropout(fine_attention_score)\n",
        "        final_fine_attention_score = fine_attention_score[:, 0, :]\n",
        "\n",
        "        return final_coarse_attention_score, final_fine_attention_score"
      ],
      "metadata": {
        "id": "3tO7YOR2HA-L"
      },
      "execution_count": 14,
      "outputs": []
    },
    {
      "cell_type": "markdown",
      "source": [
        "## main_fuctions.py"
      ],
      "metadata": {
        "id": "3UzAqvtaHG2G"
      }
    },
    {
      "cell_type": "code",
      "source": [
        "import tokenization_kisti as tokenization\n",
        "\n",
        "def get_score(predicts, corrects, idx2label):\n",
        "\n",
        "    result = {}\n",
        "\n",
        "    def get_score_one_class(predicts, corrects, value):\n",
        "        TP, FP, FN, TN = 0, 0, 0, 0\n",
        "\n",
        "        for correct, predict in zip(corrects, predicts):\n",
        "\n",
        "            if (correct == value and predict == value):\n",
        "                TP += 1\n",
        "            elif (correct != value and predict == value):\n",
        "                FP += 1\n",
        "            elif (correct == value and predict != value):\n",
        "                FN += 1\n",
        "            elif (correct != value and predict != value):\n",
        "                TN += 1\n",
        "\n",
        "        if (TP == 0):\n",
        "            precision, recall, f1_score, accuracy = 0, 0, 0, 0\n",
        "        else:\n",
        "            precision = float(TP) / (TP + FP)\n",
        "            recall = float(TP) / (TP + FN)\n",
        "            f1_score = (2 * precision * recall) / (precision + recall)\n",
        "            accuracy = float(TP + TN) / (TP + FN + FP + TN)\n",
        "\n",
        "        return precision, recall, f1_score, accuracy, TP, FP, FN, TN\n",
        "\n",
        "    values = list(idx2label.values())\n",
        "\n",
        "    for value in values:\n",
        "        precision, recall, f1_score, accuracy, TP, FP, FN, TN = get_score_one_class(predicts, corrects, value)\n",
        "        result[value] = {\"precision\": precision, \"recall\": recall, \"f1_score\": f1_score, \"accuracy\": accuracy,\n",
        "                         \"TP\": TP, \"FP\": FP, \"FN\": FN, \"TN\": TN}\n",
        "\n",
        "    macro_precision = np.sum([result[value][\"precision\"] for value in values]) / len(values)\n",
        "    macro_recall = np.sum([result[value][\"recall\"] for value in values]) / len(values)\n",
        "    macro_f1_score = np.sum([result[value][\"f1_score\"] for value in values]) / len(values)\n",
        "    total_accuracy = np.sum([result[value][\"accuracy\"] for value in values]) / len(values)\n",
        "\n",
        "    total_TP = np.sum([result[value][\"TP\"] for value in values])\n",
        "    total_FP = np.sum([result[value][\"FP\"] for value in values])\n",
        "    total_FN = np.sum([result[value][\"FN\"] for value in values])\n",
        "    total_TN = np.sum([result[value][\"TN\"] for value in values])\n",
        "\n",
        "    if (total_TP == 0):\n",
        "        micro_precision, micro_recall, micro_f1_score, accuracy = 0, 0, 0, 0\n",
        "    else:\n",
        "        micro_precision = float(total_TP) / (total_TP + total_FP)\n",
        "        micro_recall = float(total_TP) / (total_TP + total_FN)\n",
        "        micro_f1_score = (2 * micro_precision * micro_recall) / (micro_precision + micro_recall)\n",
        "\n",
        "    for value in values:\n",
        "        precision, recall, f1_score = result[value][\"precision\"], result[value][\"recall\"], result[value][\"f1_score\"]\n",
        "        TP, FP, FN, TN = result[value][\"TP\"], result[value][\"FP\"], result[value][\"FN\"], result[value][\"TN\"]\n",
        "\n",
        "        print(\"Precision from {} : \".format(value) + str(round(precision, 4)))\n",
        "        print(\"Recall from {} : \".format(value) + str(round(recall, 4)))\n",
        "        print(\"F1_score from {} : \".format(value) + str(round(f1_score, 4)))\n",
        "        print(\"Accuracy from {} : \".format(value) + str(round(total_accuracy, 4)))\n",
        "        print()\n",
        "\n",
        "    return {\"macro_precision\": round(macro_precision, 4), \"macro_recall\": round(macro_recall, 4),\n",
        "            \"macro_f1_score\": round(macro_f1_score, 4),\n",
        "            \"accuracy\": round(total_accuracy, 4),\n",
        "            \"micro_precision\": round(micro_precision, 4), \"micro_recall\": round(micro_recall, 4),\n",
        "            \"micro_f1\": round(micro_f1_score, 4)}\n",
        "\n",
        "class Helper():\n",
        "    def __init__(self, config):\n",
        "        self.config = config\n",
        "\n",
        "    def do_train(self, model, optimizer, scheduler, train_dataloader, epoch, global_step):\n",
        "        criterion = nn.CrossEntropyLoss()\n",
        "\n",
        "        coarse_map = self.config[\"coarse_map\"]\n",
        "        fine_map = self.config[\"fine_map\"]\n",
        "\n",
        "        # batch 단위 별 loss를 담을 리스트\n",
        "        losses = []\n",
        "\n",
        "        # 모델의 출력 결과와 실제 정답값을 담을 리스트\n",
        "        total_coarse_pred_label, total_coarse_gold_label = None, None\n",
        "        total_fine_pred_label, total_fine_gold_label = None, None\n",
        "\n",
        "        total_coarse_pred, total_coarse_correct = 0, 0\n",
        "        total_fine_pred, total_fine_correct = 0, 0\n",
        "        total_coarse_fine_pred, total_coarse_fine_correct = 0, 0\n",
        "\n",
        "        for step, batch in enumerate(tqdm(train_dataloader, desc=\"do_train(epoch_{})\".format(epoch))):\n",
        "            batch = tuple(t.cuda() for t in batch)\n",
        "\n",
        "            input_ids, attention_mask, token_type_ids, coarse_labels, coarse_seq, fine_labels, fine_seq, word_len_seq = \\\n",
        "                batch[0], batch[1], batch[2], batch[3], batch[4], batch[5], batch[6], batch[7]\n",
        "\n",
        "            # 입력 데이터에 대한 출력과 loss 생성\n",
        "            coarse_logits, fine_logits = model(input_ids, attention_mask, token_type_ids, coarse_labels, coarse_seq,\n",
        "                                               fine_labels, fine_seq, word_len_seq)\n",
        "\n",
        "            coarse_loss = criterion(coarse_logits, coarse_labels)\n",
        "            coarse_pred = F.softmax(coarse_logits, dim=1)\n",
        "            coarse_pred = coarse_pred.argmax(dim=1)\n",
        "\n",
        "            fine_loss = criterion(fine_logits, fine_labels)\n",
        "            fine_pred = F.softmax(fine_logits, dim=1)\n",
        "            fine_pred = fine_pred.argmax(dim=1)\n",
        "\n",
        "            for pred, gold in zip(coarse_pred, coarse_labels):\n",
        "                if pred == gold:\n",
        "                    total_coarse_correct += 1\n",
        "                total_coarse_pred += 1\n",
        "\n",
        "            for pred, gold in zip(fine_pred, fine_labels):\n",
        "                if pred == gold:\n",
        "                    total_fine_correct += 1\n",
        "                total_fine_pred += 1\n",
        "\n",
        "            for c_pred, c_gold, f_pred, f_gold in zip(coarse_pred, coarse_labels, fine_pred, fine_labels):\n",
        "                if c_pred == c_gold and f_pred == f_gold:\n",
        "                    total_coarse_fine_correct += 1\n",
        "                total_coarse_fine_pred += 1\n",
        "\n",
        "            if total_coarse_pred_label is None:\n",
        "                total_coarse_pred_label = coarse_pred.detach().cpu().numpy()\n",
        "                total_coarse_gold_label = coarse_labels.detach().cpu().numpy()\n",
        "            else:\n",
        "                total_coarse_pred_label = np.append(total_coarse_pred_label, coarse_pred.detach().cpu().numpy(), axis=0)\n",
        "                total_coarse_gold_label = np.append(total_coarse_gold_label, coarse_labels.detach().cpu().numpy(),\n",
        "                                                    axis=0)\n",
        "\n",
        "            if total_fine_pred_label is None:\n",
        "                total_fine_pred_label = fine_pred.detach().cpu().numpy()\n",
        "                total_fine_gold_label = fine_labels.detach().cpu().numpy()\n",
        "            else:\n",
        "                total_fine_pred_label = np.append(total_fine_pred_label, fine_pred.detach().cpu().numpy(), axis=0)\n",
        "                total_fine_gold_label = np.append(total_fine_gold_label, fine_labels.detach().cpu().numpy(), axis=0)\n",
        "\n",
        "            total_loss = fine_loss + coarse_loss\n",
        "\n",
        "            if self.config[\"gradient_accumulation_steps\"] > 1:\n",
        "                total_loss = total_loss / self.config[\"gradient_accumulation_steps\"]\n",
        "            if step % 300 == 0:\n",
        "                print(\"\\tloss : \", '{:.6f}'.format(total_loss))\n",
        "\n",
        "            # loss 값으로부터 모델 내부 각 매개변수에 대하여 gradient 계산\n",
        "            total_loss.backward()\n",
        "            losses.append(total_loss.data.item())\n",
        "\n",
        "            if (step + 1) % self.config[\"gradient_accumulation_steps\"] == 0 or \\\n",
        "                    (len(train_dataloader) <= self.config[\"gradient_accumulation_steps\"] and (step + 1) == len(\n",
        "                        train_dataloader)):\n",
        "                torch.nn.utils.clip_grad_norm_(model.parameters(), self.config[\"max_grad_norm\"])\n",
        "\n",
        "                # 모델 내부 각 매개변수 가중치 갱신\n",
        "                optimizer.step()\n",
        "                scheduler.step()\n",
        "\n",
        "                # 변화도를 0으로 변경\n",
        "                model.zero_grad()\n",
        "                global_step += 1\n",
        "\n",
        "        # 정확도 계산\n",
        "        coarse_acc = total_coarse_correct / total_coarse_pred\n",
        "        fine_acc = total_fine_correct / total_fine_pred\n",
        "        coarse_fine_acc = total_coarse_fine_correct / total_coarse_fine_pred\n",
        "\n",
        "        coarse_pred_label_list = [[] for _ in range(total_coarse_gold_label.shape[0])]\n",
        "        coarse_gold_label_list = [[] for _ in range(total_coarse_gold_label.shape[0])]\n",
        "\n",
        "        for i in range(total_coarse_gold_label.shape[0]):\n",
        "            coarse_gold_label_list[i].append(coarse_map[total_coarse_gold_label[i]])\n",
        "            coarse_pred_label_list[i].append(coarse_map[total_coarse_pred_label[i]])\n",
        "\n",
        "        # coarse_precision = precision_score(coarse_gold_label_list, coarse_pred_label_list, suffix=True)\n",
        "        # coarse_recall = recall_score(coarse_gold_label_list, coarse_pred_label_list, suffix=True)\n",
        "        # coarse_f1 = f1_score(coarse_gold_label_list, coarse_pred_label_list, suffix=True)\n",
        "\n",
        "        coarse_precision = precision_score(coarse_gold_label_list, coarse_pred_label_list, average='macro')\n",
        "        coarse_recall = recall_score(coarse_gold_label_list, coarse_pred_label_list, average='macro')\n",
        "        coarse_f1 = f1_score(coarse_gold_label_list, coarse_pred_label_list, average='macro')\n",
        "\n",
        "        fine_pred_label_list = [[] for _ in range(total_fine_gold_label.shape[0])]\n",
        "        fine_gold_label_list = [[] for _ in range(total_fine_gold_label.shape[0])]\n",
        "\n",
        "        for i in range(total_fine_gold_label.shape[0]):\n",
        "            fine_gold_label_list[i].append(fine_map[total_fine_gold_label[i]])\n",
        "            fine_pred_label_list[i].append(fine_map[total_fine_pred_label[i]])\n",
        "\n",
        "        # fine_precision = precision_score(fine_gold_label_list, fine_pred_label_list, suffix=True)  # 예측한 것 중, 정답의 비율\n",
        "        # fine_recall = recall_score(fine_gold_label_list, fine_pred_label_list, suffix=True)  # 찾아야할 것 중, 실제로 찾은 비율\n",
        "        # fine_f1 = f1_score(fine_gold_label_list, fine_pred_label_list, suffix=True)  # precision과 recall의 평균\n",
        "\n",
        "        fine_precision = precision_score(fine_gold_label_list, fine_pred_label_list, average='macro')  # 예측한 것 중, 정답의 비율\n",
        "        fine_recall = recall_score(fine_gold_label_list, fine_pred_label_list, average='macro')  # 찾아야할 것 중, 실제로 찾은 비율\n",
        "        fine_f1 = f1_score(fine_gold_label_list, fine_pred_label_list, average='macro')  # precision과 recall의 평균\n",
        "\n",
        "        return coarse_fine_acc, coarse_acc, coarse_precision, coarse_recall, coarse_f1, fine_acc, np.mean(\n",
        "            losses), global_step, fine_precision, fine_recall, fine_f1\n",
        "\n",
        "    def do_evaluate(self, model, test_dataloader, mode):\n",
        "\n",
        "        coarse_map = self.config[\"coarse_map\"]\n",
        "        fine_map = self.config[\"fine_map\"]\n",
        "\n",
        "        # 모델의 입력, 출력, 실제 정답값을 담을 리스트\n",
        "        total_input_ids = []\n",
        "\n",
        "        total_coarse_pred_label, total_coarse_gold_label = None, None\n",
        "        total_fine_pred_label, total_fine_gold_label = None, None\n",
        "\n",
        "        total_coarse_pred, total_coarse_correct = 0, 0\n",
        "        total_fine_pred, total_fine_correct = 0, 0\n",
        "        total_coarse_fine_pred, total_coarse_fine_correct = 0, 0\n",
        "\n",
        "        for step, batch in enumerate(tqdm(test_dataloader, desc=\"do_evaluate\")):\n",
        "\n",
        "            batch = tuple(t.cuda() for t in batch)\n",
        "\n",
        "            input_ids, attention_mask, token_type_ids, coarse_labels, coarse_seq, fine_labels, fine_seq, word_len_seq \\\n",
        "                = batch[0], batch[1], batch[2], batch[3], batch[4], batch[5], batch[6], batch[7]\n",
        "\n",
        "            # 입력 데이터에 대한 출력 결과 생성\n",
        "            coarse_logits, fine_logits = model(input_ids, attention_mask, token_type_ids, coarse_labels, coarse_seq,\n",
        "                                               fine_labels, fine_seq, word_len_seq)\n",
        "\n",
        "            coarse_pred = F.softmax(coarse_logits, dim=1)\n",
        "            coarse_pred = coarse_pred.argmax(dim=1)\n",
        "\n",
        "            fine_pred = F.softmax(fine_logits, dim=1)\n",
        "            fine_pred = fine_pred.argmax(dim=1)\n",
        "\n",
        "            for pred, gold in zip(coarse_pred, coarse_labels):\n",
        "                if pred == gold:\n",
        "                    total_coarse_correct += 1\n",
        "                total_coarse_pred += 1\n",
        "\n",
        "            for pred, gold in zip(fine_pred, fine_labels):\n",
        "                if pred == gold:\n",
        "                    total_fine_correct += 1\n",
        "                total_fine_pred += 1\n",
        "\n",
        "            for c_pred, c_gold, f_pred, f_gold in zip(coarse_pred, coarse_labels, fine_pred, fine_labels):\n",
        "                if c_pred == c_gold and f_pred == f_gold:\n",
        "                    total_coarse_fine_correct += 1\n",
        "                total_coarse_fine_pred += 1\n",
        "\n",
        "            if total_coarse_pred_label is None:\n",
        "                total_coarse_pred_label = coarse_pred.detach().cpu().numpy()\n",
        "                total_coarse_gold_label = coarse_labels.detach().cpu().numpy()\n",
        "            else:\n",
        "                total_coarse_pred_label = np.append(total_coarse_pred_label, coarse_pred.detach().cpu().numpy(), axis=0)\n",
        "                total_coarse_gold_label = np.append(total_coarse_gold_label, coarse_labels.detach().cpu().numpy(),\n",
        "                                                    axis=0)\n",
        "\n",
        "            if total_fine_pred_label is None:\n",
        "                total_fine_pred_label = fine_pred.detach().cpu().numpy()\n",
        "                total_fine_gold_label = fine_labels.detach().cpu().numpy()\n",
        "            else:\n",
        "                total_fine_pred_label = np.append(total_fine_pred_label, fine_pred.detach().cpu().numpy(), axis=0)\n",
        "                total_fine_gold_label = np.append(total_fine_gold_label, fine_labels.detach().cpu().numpy(), axis=0)\n",
        "\n",
        "            input_ids = input_ids.cpu().detach().numpy().tolist()\n",
        "            total_input_ids += input_ids\n",
        "\n",
        "        # 정확도 계산\n",
        "        coarse_acc = total_coarse_correct / total_coarse_pred\n",
        "        fine_acc = total_fine_correct / total_fine_pred\n",
        "        coarse_fine_acc = total_coarse_fine_correct / total_coarse_fine_pred\n",
        "\n",
        "        coarse_pred_label_list = [[] for _ in range(total_coarse_gold_label.shape[0])]\n",
        "        coarse_gold_label_list = [[] for _ in range(total_coarse_gold_label.shape[0])]\n",
        "\n",
        "        for i in range(total_coarse_gold_label.shape[0]):\n",
        "            coarse_gold_label_list[i].append(coarse_map[total_coarse_gold_label[i]])\n",
        "            coarse_pred_label_list[i].append(coarse_map[total_coarse_pred_label[i]])\n",
        "\n",
        "        # coarse_precision = precision_score(coarse_gold_label_list, coarse_pred_label_list, suffix=True)\n",
        "        # coarse_recall = recall_score(coarse_gold_label_list, coarse_pred_label_list, suffix=True)\n",
        "        # coarse_f1 = f1_score(coarse_gold_label_list, coarse_pred_label_list, suffix=True)\n",
        "\n",
        "        coarse_precision = precision_score(coarse_gold_label_list, coarse_pred_label_list, average='macro')\n",
        "        coarse_recall = recall_score(coarse_gold_label_list, coarse_pred_label_list, average='macro')\n",
        "        coarse_f1 = f1_score(coarse_gold_label_list, coarse_pred_label_list, average='macro')\n",
        "        \n",
        "        fine_pred_label_list = [[] for _ in range(total_fine_gold_label.shape[0])]\n",
        "        fine_gold_label_list = [[] for _ in range(total_fine_gold_label.shape[0])]\n",
        "\n",
        "        for i in range(total_fine_gold_label.shape[0]):\n",
        "            fine_gold_label_list[i].append(fine_map[total_fine_gold_label[i]])\n",
        "            fine_pred_label_list[i].append(fine_map[total_fine_pred_label[i]])\n",
        "\n",
        "        # fine_precision = precision_score(fine_gold_label_list, fine_pred_label_list, suffix=True)\n",
        "        # fine_recall = recall_score(fine_gold_label_list, fine_pred_label_list, suffix=True)\n",
        "        # fine_f1 = f1_score(fine_gold_label_list, fine_pred_label_list, suffix=True)\n",
        "\n",
        "        fine_precision = precision_score(fine_gold_label_list, fine_pred_label_list, average='macro')\n",
        "        fine_recall = recall_score(fine_gold_label_list, fine_pred_label_list, average='macro')\n",
        "        fine_f1 = f1_score(fine_gold_label_list, fine_pred_label_list, average='macro')\n",
        "\n",
        "        if (mode == \"train\"):\n",
        "            return coarse_fine_acc, coarse_acc, coarse_precision, coarse_recall, coarse_f1, fine_acc, fine_precision, fine_recall, fine_f1\n",
        "        else:\n",
        "            return coarse_fine_acc, coarse_acc, coarse_precision, coarse_recall, coarse_f1, fine_acc, fine_precision, fine_recall, fine_f1, total_input_ids, coarse_gold_label_list, coarse_pred_label_list, fine_gold_label_list, fine_pred_label_list\n",
        "\n",
        "    def do_analyze(self, electra_model, test_dataloader, mode):\n",
        "        # 모델의 입력, 출력, 실제 정답값을 담을 리스트\n",
        "        total_input_ids, total_predicts, total_corrects = [], [], []\n",
        "\n",
        "        for step, batch in enumerate(tqdm(test_dataloader, desc=\"do_analyze\")):\n",
        "            batch = tuple(t.cuda() for t in batch)\n",
        "            input_ids, attention_mask, token_type_ids, senti_labels, senti_seq, score_seq, word_len_seq = batch[0], \\\n",
        "                                                                                                          batch[1], \\\n",
        "                                                                                                          batch[2], \\\n",
        "                                                                                                          batch[3], \\\n",
        "                                                                                                          batch[4], \\\n",
        "                                                                                                          batch[5], \\\n",
        "                                                                                                          batch[6]\n",
        "\n",
        "            # 입력 데이터에 대한 출력 결과 생성\n",
        "            score_logits, senti_logits = electra_model(input_ids, attention_mask, token_type_ids,\n",
        "                                                       senti_labels, score_seq, senti_seq,\n",
        "                                                       word_len_seq)\n",
        "\n",
        "            senti_logits = senti_logits.squeeze()\n",
        "\n",
        "            predicts = F.softmax(senti_logits, dim=1)\n",
        "            predicts = predicts.argmax(dim=-1)\n",
        "            predicts = predicts.cpu().detach().numpy().tolist()\n",
        "            labels = senti_labels.cpu().detach().numpy().tolist()\n",
        "            input_ids = input_ids.cpu().detach().numpy().tolist()\n",
        "\n",
        "            total_predicts += predicts\n",
        "            total_corrects += labels\n",
        "            total_input_ids += input_ids\n",
        "\n",
        "        # 정확도 계산\n",
        "        accuracy = accuracy_score(total_corrects, total_predicts)\n",
        "        return accuracy, total_input_ids\n",
        "\n",
        "    def train(self):\n",
        "\n",
        "        # # 객체 생성\n",
        "        # parser = argparse.ArgumentParser()\n",
        "\n",
        "        # # 사전학습모델 klue/roberta-base\n",
        "        # parser.add_argument(\"--transformer_type\", default=\"klue_roberta-base\", type=str)\n",
        "        # parser.add_argument(\"--model_name_or_path\", default=\"klue/roberta-base\", type=str)\n",
        "        # parser.add_argument(\"--cache_path\", default=\"../../cache/klue_roberta-base/\", type=str)\n",
        "\n",
        "        # args = parser.parse_args()\n",
        "\n",
        "        # # config 객체 생성\n",
        "        # config = AutoConfig.from_pretrained(\n",
        "        #     args.model_name_or_path,\n",
        "        #     cache_dir=args.cache_path,\n",
        "        # )\n",
        "\n",
        "        # # tokenizer 객체 생성\n",
        "        # tokenizer = AutoTokenizer.from_pretrained(\n",
        "        #     args.model_name_or_path,\n",
        "        #     cache_dir=args.cache_path\n",
        "        # )\n",
        "\n",
        "        # # pretrained model 객체 생성\n",
        "        # pre_trained_model = AutoModel.from_pretrained(\n",
        "        #     args.model_name_or_path,\n",
        "        #     cache_dir=args.cache_path,\n",
        "        #     config=config,\n",
        "        # )\n",
        "\n",
        "        vocab_file = root_dir + \"/vocab_kisti.txt\"\n",
        "\n",
        "        print(\"토크나이저 불러오는 중...\")\n",
        "        tokenizer = tokenization.FullTokenizer(\n",
        "            vocab_file=vocab_file,\n",
        "            do_lower_case=False,\n",
        "            tokenizer_type=\"Mecab\")\n",
        "        print(\"토크나이저 불러오기 성공\")\n",
        "\n",
        "        print(\"korscibert 불러오는 중...\")\n",
        "        korscibert_path = root_dir + \"/pytorch_model.bin\"\n",
        "        korscibert_config = AutoConfig.from_pretrained(root_dir + \"/bert_config_kisti.json\")\n",
        "        pre_trained_model = AutoModel.from_pretrained(korscibert_path, config=korscibert_config)\n",
        "        print(\"korscibert 불러오기 성공\")   \n",
        "\n",
        "\n",
        "        # 학습 데이터 읽기\n",
        "        train_datas = read_data(file_path=self.config[\"train_data_path\"], mode=self.config[\"mode\"])\n",
        "\n",
        "        # 학습 데이터 전처리\n",
        "        train_dataset = convert_data2dataset(datas=train_datas, tokenizer=tokenizer,\n",
        "                                                           max_length=self.config[\"max_length\"],\n",
        "                                                           coarse_tags=self.config[\"coarse_tag\"],\n",
        "                                                           fine_tags=self.config[\"fine_tag\"],\n",
        "                                                           mode=self.config[\"mode\"])\n",
        "\n",
        "        # 학습 데이터를 batch 단위로 추출하기 위한 DataLoader 객체 생성\n",
        "        train_sampler = RandomSampler(train_dataset)\n",
        "        train_dataloader = DataLoader(train_dataset, sampler=train_sampler, batch_size=self.config[\"batch_size\"])\n",
        "\n",
        "        # 평가 데이터 읽기\n",
        "        test_datas = read_data(file_path=self.config[\"test_data_path\"], mode=self.config[\"mode\"])\n",
        "\n",
        "        # 평가 데이터 전처리\n",
        "        test_dataset = convert_data2dataset(datas=test_datas, tokenizer=tokenizer,\n",
        "                                                          max_length=self.config[\"max_length\"],\n",
        "                                                          coarse_tags=self.config[\"coarse_tag\"],\n",
        "                                                          fine_tags=self.config[\"fine_tag\"],\n",
        "                                                          mode=self.config[\"mode\"])\n",
        "\n",
        "        # 평가 데이터를 batch 단위로 추출하기 위한 DataLoader 객체 생성\n",
        "        test_sampler = SequentialSampler(test_dataset)\n",
        "        test_dataloader = DataLoader(test_dataset, sampler=test_sampler, batch_size=12)\n",
        "\n",
        "        #########################################################################################################################################\n",
        "\n",
        "        # model 객체 생성\n",
        "        model = SequenceClassification(\n",
        "            config=korscibert_config,\n",
        "            model= pre_trained_model,\n",
        "            coarse_emb_size=self.config['lstm_hidden'] * 2,\n",
        "            coarse_size=self.config['coarse_tag'],\n",
        "            fine_emb_size=self.config['lstm_hidden'] * 2,\n",
        "            fine_size=self.config['fine_tag'],\n",
        "            lstm_hidden=self.config['lstm_hidden'],\n",
        "            num_layer=self.config['lstm_num_layer'],\n",
        "            bilstm_flag=self.config['bidirectional_flag'],\n",
        "        )\n",
        "\n",
        "        model.to(0)\n",
        "        \n",
        "        # 전체 학습 횟수(batch 단위)\n",
        "        t_total = len(train_dataloader) // self.config[\"gradient_accumulation_steps\"] * self.config[\"epoch\"]\n",
        "\n",
        "        # 모델 학습을 위한 optimizer\n",
        "        no_decay = [\"korscibert\"]\n",
        "\n",
        "        print([n for n, p in model.named_parameters() if not any(nd in n for nd in no_decay)])\n",
        "\n",
        "        optimizer = AdamW([{'params': [p for n, p in model.named_parameters() if not any(nd in n for nd in no_decay)],\n",
        "                            'lr': self.config['learning_rate'], 'weight_decay': self.config['weight_decay']},\n",
        "                           {'params': [p for n, p in model.named_parameters() if any(nd in n for nd in no_decay)],\n",
        "                            'lr': 5e-5, 'weight_decay': 0.0}])\n",
        "        \n",
        "        scheduler = get_linear_schedule_with_warmup(optimizer, num_warmup_steps=self.config[\"warmup_steps\"],\n",
        "                                                    num_training_steps=t_total)\n",
        "\n",
        "        if os.path.isfile(os.path.join(self.config[\"model_dir_path\"], \"optimizer.pt\")) and os.path.isfile(\n",
        "                os.path.join(self.config[\"model_dir_path\"], \"scheduler.pt\")):\n",
        "            \n",
        "            # 기존에 학습했던 optimizer와 scheduler의 정보 불러옴\n",
        "            optimizer.load_state_dict(torch.load(os.path.join(self.config[\"model_dir_path\"], \"optimizer.pt\")))\n",
        "            scheduler.load_state_dict(torch.load(os.path.join(self.config[\"model_dir_path\"], \"scheduler.pt\")))\n",
        "            \n",
        "            print(\"#######################     Success Load Model     ###########################\")\n",
        "\n",
        "        global_step = 0\n",
        "        model.zero_grad()\n",
        "\n",
        "        max_test_coarse_accuracy = 0\n",
        "        max_test_coarse_f1 = 0\n",
        "        max_test_fine_accuracy = 0\n",
        "        max_test_fine_f1 = 0\n",
        "\n",
        "        for epoch in range(self.config[\"epoch\"]):\n",
        "            model.train()\n",
        "\n",
        "            # 학습 데이터에 대한 정확도와 평균 loss\n",
        "            coarse_fine_acc, coarse_acc, coarse_precision, coarse_recall, coarse_f1, fine_acc, average_loss, global_step, fine_precision, fine_recall, fine_f1 = self.do_train(\n",
        "                model=model,\n",
        "                optimizer=optimizer, scheduler=scheduler,\n",
        "                train_dataloader=train_dataloader,\n",
        "                epoch=epoch + 1, global_step=global_step)\n",
        "\n",
        "            print(\"average_loss : {}\".format(round(average_loss, 4)))\n",
        "            print()\n",
        "            print(\"train_coarse_accuracy :\\t{:.6f}\\t\".format(coarse_acc))\n",
        "            print(\"train_coarse_precision :\\t{:.6f}\\t\".format(coarse_precision))\n",
        "            print(\"train_coarse_recall :\\t\\t{:.6f}\\t\".format(coarse_recall))\n",
        "            print(\"train_coarse_f1 :\\t\\t\\t{:.6f}\\t\".format(coarse_f1))\n",
        "            print()\n",
        "            print(\"train_fine_accuracy :\\t{:.6f}\\t\".format(fine_acc))\n",
        "            print(\"train_fine_precision :\\t{:.6f}\\t\".format(fine_precision))\n",
        "            print(\"train_fine_recall :\\t\\t{:.6f}\\t\".format(fine_recall))\n",
        "            print(\"train_fine_f1 :\\t\\t\\t{:.6f}\\t\".format(fine_f1))\n",
        "            print()\n",
        "            print(\"train_coarse_fine_accuracy :\\t{:.6f}\\t\".format(coarse_fine_acc))\n",
        "\n",
        "            model.eval()\n",
        "\n",
        "            # 평가 데이터에 대한 정확도\n",
        "            coarse_fine_acc, coarse_acc, coarse_precision, coarse_recall, coarse_f1, fine_acc, fine_precision, fine_recall, fine_f1 \\\n",
        "                = self.do_evaluate(model=model, test_dataloader=test_dataloader, mode=self.config[\"mode\"])\n",
        "\n",
        "            print(\"test_coarse_accuracy :\\t{:.6f}\\t\".format(coarse_acc))\n",
        "            print(\"test_coarse_precision :\\t{:.6f}\\t\".format(coarse_precision))\n",
        "            print(\"test_coarse_recall :\\t\\t{:.6f}\\t\".format(coarse_recall))\n",
        "            print(\"test_coarse_f1 :\\t\\t\\t{:.6f}\\t\".format(coarse_f1))\n",
        "            print()\n",
        "            print(\"test_fine_accuracy :\\t{:.6f}\\t\".format(fine_acc))\n",
        "            print(\"test_fine_precision :\\t{:.6f}\\t\".format(fine_precision))\n",
        "            print(\"test_fine_recall :\\t\\t{:.6f}\\t\".format(fine_recall))\n",
        "            print(\"test_fine_f1 :\\t\\t\\t{:.6f}\\t\".format(fine_f1))\n",
        "            print()\n",
        "            print(\"test_coarse_fine_accuracy :\\t{:.6f}\\t\".format(coarse_fine_acc))\n",
        "\n",
        "            # 현재의 성능이 기존 성능보다 높은 경우 성능 저장 및 모델 파일 저장\n",
        "            if max_test_coarse_accuracy < coarse_acc:\n",
        "                max_test_coarse_accuracy = coarse_acc\n",
        "\n",
        "            if max_test_coarse_f1 < coarse_f1:\n",
        "                max_test_coarse_f1 = coarse_f1\n",
        "\n",
        "            if max_test_fine_f1 < fine_f1:\n",
        "                max_test_fine_f1 = fine_f1\n",
        "\n",
        "            if (max_test_fine_accuracy < fine_acc):\n",
        "                max_test_fine_accuracy = fine_acc\n",
        "\n",
        "                # accuracy가 높으면 학습 파일 저장\n",
        "                output_dir = os.path.join(self.config[\"model_dir_path\"], \"epoch-{}\".format(epoch + 1))\n",
        "                if not os.path.exists(output_dir):\n",
        "                    os.makedirs(output_dir)\n",
        "                torch.save(model.state_dict(), os.path.join(output_dir, str(epoch + 1) + \"_model.pt\"))\n",
        "\n",
        "            print(\"max_test_coarse_f1 :\\t\\t\", \"{:.6f}\".format(round(max_test_coarse_f1, 6)))\n",
        "            print(\"max_test_coarse_accuracy :\\t\\t\", \"{:.6f}\".format(round(max_test_coarse_accuracy, 6)))\n",
        "            print(\"max_test_fine_f1 :\\t\\t\", \"{:.6f}\".format(round(max_test_fine_f1, 6)))\n",
        "            print(\"max_test_fine_accuracy :\\t\\t\", \"{:.6f}\".format(round(max_test_fine_accuracy, 6)))\n",
        "\n",
        "    def test(self):\n",
        "\n",
        "        # # 객체 생성\n",
        "        # parser = argparse.ArgumentParser()\n",
        "\n",
        "        # # klue/roberta-base\n",
        "        # parser.add_argument(\"--transformer_type\", default=\"klue_roberta-base\", type=str)\n",
        "        # parser.add_argument(\"--model_name_or_path\", default=\"klue/roberta-base\", type=str)\n",
        "        # parser.add_argument(\"--cache_path\", default=\"../../cache/klue_roberta-base/\", type=str)\n",
        "\n",
        "        # args = parser.parse_args()\n",
        "\n",
        "        # # congif 객체 생성\n",
        "        # config = AutoConfig.from_pretrained(\n",
        "        #     args.model_name_or_path,\n",
        "        #     cache_dir=args.cache_path,\n",
        "        # )\n",
        "        \n",
        "        # # tokenizer 객체 생성\n",
        "        # tokenizer = AutoTokenizer.from_pretrained(\n",
        "        #     args.model_name_or_path,\n",
        "        #     cache_dir=args.cache_path\n",
        "        # )\n",
        "        \n",
        "        # # pretrained model 객체 생성\n",
        "        # pre_trained_model = AutoModel.from_pretrained(\n",
        "        #     args.model_name_or_path,\n",
        "        #     cache_dir=args.cache_path,\n",
        "        #     config=config,\n",
        "        # )\n",
        "\n",
        "        vocab_file = root_dir + \"/vocab_kisti.txt\"\n",
        "\n",
        "        print(\"토크나이저 불러오는 중...\")\n",
        "        tokenizer = tokenization.FullTokenizer(\n",
        "            vocab_file=vocab_file,\n",
        "            do_lower_case=False,\n",
        "            tokenizer_type=\"Mecab\")\n",
        "        print(\"토크나이저 불러오기 성공\")\n",
        "\n",
        "        print(\"korscibert 불러오는 중...\")\n",
        "        korscibert_path = root_dir + \"/pytorch_model.bin\"\n",
        "        korscibert_config = AutoConfig.from_pretrained(root_dir + \"/bert_config_kisti.json\")\n",
        "        pre_trained_model = AutoModel.from_pretrained(korscibert_path, config=korscibert_config)\n",
        "        print(\"korscibert 불러오기 성공\")   \n",
        "\n",
        "        model = SequenceClassification(\n",
        "            config=korscibert_config,\n",
        "            model=pre_trained_model,\n",
        "            coarse_emb_size=self.config['lstm_hidden'] * 2,\n",
        "            coarse_size=self.config['coarse_tag'],\n",
        "            fine_emb_size=self.config['lstm_hidden'] * 2,\n",
        "            fine_size=self.config['fine_tag'],\n",
        "            lstm_hidden=self.config['lstm_hidden'],\n",
        "            num_layer=self.config['lstm_num_layer'],\n",
        "            bilstm_flag=self.config['bidirectional_flag'],\n",
        "        )\n",
        "\n",
        "        model.to(0)\n",
        "\n",
        "        # 평가 데이터 읽기\n",
        "        test_datas = read_data(file_path=self.config[\"test_data_path\"], mode=self.config[\"mode\"])\n",
        "\n",
        "        # 원본 문장 가져오기\n",
        "        orgin_sentence = [test_datas[i][0] for i in range(len(test_datas))]\n",
        "\n",
        "        # 평가 데이터 전처리\n",
        "        test_dataset = convert_data2dataset(datas=test_datas, tokenizer=tokenizer,\n",
        "                                                          max_length=self.config[\"max_length\"],\n",
        "                                                          coarse_tags=self.config[\"coarse_tag\"],\n",
        "                                                          fine_tags=self.config[\"fine_tag\"],\n",
        "                                                          mode=self.config[\"mode\"])\n",
        "\n",
        "        # 평가 데이터를 batch 단위로 추출하기 위한 DataLoader 객체 생성\n",
        "        test_dataloader = DataLoader(test_dataset, shuffle=False, drop_last=False, batch_size=self.config[\"test_batch_size\"])\n",
        "\n",
        "        model.load_state_dict(torch.load(os.path.join(self.config[\"model_dir_path\"],\n",
        "                                                      \"epoch-{}/{}_model.pt\".format(self.config[\"checkpoint\"],\n",
        "                                                                                    self.config[\"checkpoint\"]))))\n",
        "        model.eval()\n",
        "\n",
        "        # 평가 데이터에 대한 정확도와 모델의 입력, 출력, 정답\n",
        "        coarse_fine_acc, coarse_acc, coarse_precision, coarse_recall, coarse_f1, fine_acc, fine_precision, fine_recall, fine_f1, \\\n",
        "        total_input_ids, coarse_gold_label_list, coarse_pred_label_list, fine_gold_label_list, fine_pred_label_list \\\n",
        "            = self.do_evaluate(model=model, test_dataloader=test_dataloader, mode=self.config[\"mode\"])\n",
        "\n",
        "        print(\"test_coarse_fine_accuracy :\\t{:.6f}\\t\".format(coarse_fine_acc))\n",
        "        print()\n",
        "        print(\"test_coarse_accuracy :\\t{:.6f}\\t\".format(coarse_acc))\n",
        "        print(\"test_coarse_precision :\\t{:.6f}\\t\".format(coarse_precision))\n",
        "        print(\"test_coarse_recall :\\t\\t{:.6f}\\t\".format(coarse_recall))\n",
        "        print(\"test_coarse_f1 :\\t\\t\\t{:.6f}\\t\".format(coarse_f1))\n",
        "        print()\n",
        "        print(\"test_fine_accuracy :\\t{:.6f}\\t\".format(fine_acc))\n",
        "        print(\"test_fine_precision :\\t{:.6f}\\t\".format(fine_precision))\n",
        "        print(\"test_fine_recall :\\t\\t{:.6f}\\t\".format(fine_recall))\n",
        "        print(\"test_fine_f1 :\\t\\t\\t{:.6f}\\t\".format(fine_f1))\n",
        "\n",
        "        # 전체 비교\n",
        "        print(\"테스트 데이터 전체에 대하여 모델 출력과 정답을 비교\")\n",
        "        self.show_result(orgin_sentence[:], total_input_ids=total_input_ids[:], coarse_gold=coarse_gold_label_list[:],\n",
        "                         coarse_pred=coarse_pred_label_list[:], fine_gold=fine_gold_label_list[:],\n",
        "                         fine_pred=fine_pred_label_list[:], tokenizer=tokenizer)\n",
        "\n",
        "    def show_result(self, orgin_sentence, total_input_ids, coarse_gold, coarse_pred, fine_gold, fine_pred, tokenizer):\n",
        "\n",
        "        coarse_pred = sum(coarse_pred, [])\n",
        "        coarse_gold = sum(coarse_gold, [])\n",
        "\n",
        "        fine_pred = sum(fine_pred, [])\n",
        "        fine_gold = sum(fine_gold, [])\n",
        "\n",
        "        print(\"대분류 성능\")\n",
        "        idx2label = {0: '연구 목적', 1: '연구 방법', 2: '연구 결과'}\n",
        "        print(get_score(coarse_pred, coarse_gold, idx2label))\n",
        "        \n",
        "        print(\"세부분류 성능\")\n",
        "        idx2label = {0: '문제 정의', 1: '가설 설정', 2: '기술 정의', 3: '제안 방법', 4: '대상 데이터', 5: '데이터처리', 6: '이론/모형', 7: '성능/효과', 8: '후속연구'}\n",
        "        print(get_score(fine_pred, fine_gold, idx2label))\n",
        "\n",
        "    def demo(self):\n",
        "\n",
        "        # model 객체 생성\n",
        "        parser = argparse.ArgumentParser()\n",
        "        parser.add_argument(\"--cache_path\", default=\"../../cache/kor_sci_bert/\", type=str)\n",
        "\n",
        "        args = parser.parse_args()\n",
        "\n",
        "        # Hugging face\n",
        "        # congif 객체 생성\n",
        "        config = AutoConfig.from_pretrained(\n",
        "            args.model_name_or_path,\n",
        "            cache_dir=args.cache_path,\n",
        "        )\n",
        "        \n",
        "        # tokenizer 객체 생성\n",
        "        tokenizer = AutoTokenizer.from_pretrained(\n",
        "            args.model_name_or_path,\n",
        "            cache_dir=args.cache_path\n",
        "        )\n",
        "        \n",
        "        # pretrained model 객체 생성\n",
        "        pre_trained_model = AutoModel.from_pretrained(\n",
        "            args.model_name_or_path,\n",
        "            cache_dir=args.cache_path,\n",
        "            config=config,\n",
        "        )\n",
        "\n",
        "        # model 객체 생성\n",
        "        model = SequenceClassification(\n",
        "            config=config,\n",
        "            model=pre_trained_model,\n",
        "            coarse_emb_size=self.config['lstm_hidden'] * 2,\n",
        "            coarse_size=self.config['coarse_tag'],\n",
        "            fine_emb_size=self.config['lstm_hidden'] * 2,\n",
        "            fine_size=self.config['fine_tag'],\n",
        "            lstm_hidden=self.config['lstm_hidden'],\n",
        "            num_layer=self.config['lstm_num_layer'],\n",
        "            bilstm_flag=self.config['bidirectional_flag'],\n",
        "        )\n",
        "\n",
        "        model.to(0)\n",
        "\n",
        "        is_demo = True\n",
        "\n",
        "        while (is_demo):\n",
        "            total_input_ids, total_attention_mask, total_token_type_ids, total_coarse_seq, total_fine_seq, total_word_seq = [], [], [], [], [], []\n",
        "\n",
        "            datas = input(\"문장을 입력하세요 : \").strip()\n",
        "\n",
        "            if datas == \"-1\":\n",
        "                break\n",
        "\n",
        "            tokens = tokenizer.tokenize(datas)\n",
        "            tokens = [\"[CLS]\"] + tokens\n",
        "            tokens = tokens[:self.config['max_length'] - 1]\n",
        "            tokens.append(\"[SEP]\")\n",
        "\n",
        "            input_ids = sum([tokenizer.convert_tokens_to_ids([token]) for token in tokens], [])\n",
        "\n",
        "            assert len(input_ids) <= self.config['max_length']\n",
        "\n",
        "            attention_mask = [1] * len(input_ids)\n",
        "            token_type_ids = [0] * len(input_ids)\n",
        "\n",
        "            padding = [0] * (self.config['max_length'] - len(input_ids))\n",
        "\n",
        "            total_word_seq.append(len(input_ids))\n",
        "\n",
        "            input_ids += padding\n",
        "            attention_mask += padding\n",
        "            token_type_ids += padding\n",
        "\n",
        "            total_input_ids.append(input_ids)\n",
        "            total_attention_mask.append(attention_mask)\n",
        "            total_token_type_ids.append(token_type_ids)\n",
        "\n",
        "            total_coarse_seq.append([i for i in range(self.config['coarse_tag'])])\n",
        "            total_fine_seq.append([i for i in range(self.config['fine_tag'])])\n",
        "\n",
        "            total_input_ids = torch.tensor(total_input_ids, dtype=torch.long)\n",
        "            total_attention_mask = torch.tensor(total_attention_mask, dtype=torch.long)\n",
        "            total_token_type_ids = torch.tensor(total_token_type_ids, dtype=torch.long)\n",
        "            total_coarse_seq = torch.tensor(total_coarse_seq, dtype=torch.long)\n",
        "            total_fine_seq = torch.tensor(total_fine_seq, dtype=torch.long)\n",
        "            total_word_seq = torch.tensor(total_word_seq, dtype=torch.long)\n",
        "\n",
        "            dataset = TensorDataset(total_input_ids, total_attention_mask, total_token_type_ids, total_coarse_seq,\n",
        "                                    total_fine_seq, total_word_seq)\n",
        "\n",
        "            test_sampler = SequentialSampler(dataset)\n",
        "            test_dataloader = DataLoader(dataset, sampler=test_sampler, batch_size=1)\n",
        "\n",
        "            model.load_state_dict(torch.load(os.path.join(self.config[\"model_dir_path\"],\n",
        "                                                          \"epoch-{}/{}_model.pt\".format(self.config[\"checkpoint\"],\n",
        "                                                                                        self.config[\"checkpoint\"]))))\n",
        "\n",
        "            model.eval()\n",
        "\n",
        "            for step, batch in enumerate(test_dataloader):\n",
        "                batch = tuple(t.cuda() for t in batch)\n",
        "\n",
        "                input_ids, attention_mask, token_type_ids, coarse_seq, fine_seq, word_len_seq = \\\n",
        "                    batch[0], batch[1], batch[2], batch[3], batch[4], batch[5]\n",
        "\n",
        "                # 입력 데이터에 대한 출력 결과 생성\n",
        "                coarse_logits, fine_logits = model(input_ids, attention_mask, token_type_ids, None, coarse_seq, None,\n",
        "                                                   fine_seq, word_len_seq)\n",
        "\n",
        "                coarse_pred = F.softmax(coarse_logits, dim=1)\n",
        "                coarse_pred = coarse_pred.argmax(dim=1)\n",
        "\n",
        "                fine_pred = F.softmax(fine_logits, dim=1)\n",
        "                fine_pred = fine_pred.argmax(dim=1)\n",
        "\n",
        "                coarse_pred = coarse_pred.cpu().detach().numpy().tolist()[0]\n",
        "                fine_pred = fine_pred.cpu().detach().numpy().tolist()[0]\n",
        "\n",
        "                if coarse_pred == 0:\n",
        "                    coarse_pred = \"연구 목적\"\n",
        "                elif coarse_pred == 1:\n",
        "                    coarse_pred = \"연구 방법\"\n",
        "                elif coarse_pred == 2:\n",
        "                    coarse_pred = \"연구 결과\"\n",
        "\n",
        "                if fine_pred == 0:\n",
        "                    fine_pred = \"문제 정의\"\n",
        "                elif fine_pred == 1:\n",
        "                    fine_pred = \"가설 설정\"\n",
        "                elif fine_pred == 2:\n",
        "                    fine_pred = \"기술 정의\"\n",
        "                elif fine_pred == 3:\n",
        "                    fine_pred = \"제안 방법\"\n",
        "                elif fine_pred == 4:\n",
        "                    fine_pred = \"대상 데이터\"\n",
        "                elif fine_pred == 5:\n",
        "                    fine_pred = \"데이터처리\"\n",
        "                elif fine_pred == 6:\n",
        "                    fine_pred = \"이론/모형\"\n",
        "                elif fine_pred == 7:\n",
        "                    fine_pred = \"성능/효과\"\n",
        "                elif fine_pred == 8:\n",
        "                    fine_pred = \"후속연구\"\n",
        "\n",
        "                print()\n",
        "                print(\"입력 문장 \\t: {}\".format(datas))\n",
        "                print(\"대분류 결과 \\t: {}\".format(coarse_pred))\n",
        "                print(\"세부분류 결과 : {}\".format(fine_pred))\n",
        "                print()\n"
      ],
      "metadata": {
        "id": "EXM4QgckQBax"
      },
      "execution_count": 15,
      "outputs": []
    },
    {
      "cell_type": "markdown",
      "source": [
        "## main.py\n",
        "\n",
        "작년 수상작 페이지 참조\n",
        "\n",
        "https://aida.kisti.re.kr/gallery/17\n",
        "\n",
        "\n",
        "![image.png](data:image/png;base64,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)"
      ],
      "metadata": {
        "id": "l35Mts6TWIhd"
      }
    },
    {
      "cell_type": "code",
      "source": [
        "if __name__ == \"__main__\":\n",
        "\n",
        "    if not os.path.exists(cache_dir):\n",
        "        os.makedirs(cache_dir)\n",
        "    if not os.path.exists(output_dir):\n",
        "        os.makedirs(output_dir)\n",
        "\n",
        "    fine_vocab_path = os.path.join(data_dir, \"fine_vocab.txt\")\n",
        "    coarse_vocab_path = os.path.join(data_dir, \"coarse_vocab.txt\")\n",
        "\n",
        "    fine_vocab_map = {}\n",
        "    coarse_vocab_map = {}\n",
        "\n",
        "    with open(fine_vocab_path, 'r', encoding='utf-8') as vocab:\n",
        "        for label in vocab:\n",
        "            label = label.strip()\n",
        "            fine_vocab_map[len(fine_vocab_map)] = label\n",
        "\n",
        "    with open(coarse_vocab_path, 'r', encoding='utf-8') as vocab:\n",
        "        for label in vocab:\n",
        "            label = label.strip()\n",
        "            coarse_vocab_map[len(coarse_vocab_map)] = label\n",
        "\n",
        "    config = {\"mode\": \"train\",\n",
        "              \"train_data_path\": data_dir + \"/train.json\",\n",
        "              \"test_data_path\":  data_dir + \"/test.json\",\n",
        "              \"cache_dir_path\": cache_dir,\n",
        "              \"model_dir_path\": output_dir,\n",
        "              \"checkpoint\": 0,\n",
        "              \"epoch\": 5,\n",
        "              \"learning_rate\": 1e-5,\n",
        "              \"dropout_rate\": 0.3,\n",
        "              \"warmup_steps\": 0,\n",
        "              \"max_grad_norm\": 1.0,\n",
        "              \"batch_size\": 8,\n",
        "              \"test_batch_size\": 8,\n",
        "              \"max_length\": 128,\n",
        "              \"lstm_hidden\": 256,\n",
        "              \"lstm_num_layer\": 1,\n",
        "              \"bidirectional_flag\": True,\n",
        "              \"fine_tag\": 9,\n",
        "              \"coarse_tag\": 3,\n",
        "              \"fine_map\": fine_vocab_map,\n",
        "              \"coarse_map\": coarse_vocab_map,\n",
        "              \"gradient_accumulation_steps\": 1,\n",
        "              \"weight_decay\": 0.0,\n",
        "              \"adam_epsilon\": 1e-8\n",
        "    }\n",
        "\n",
        "    helper = Helper(config)\n",
        "\n",
        "    if config[\"mode\"] == \"train\":\n",
        "        helper.train()\n",
        "    elif config[\"mode\"] == \"test\":\n",
        "        helper.test()\n",
        "    elif config[\"mode\"] == \"demo\":\n",
        "        helper.demo()"
      ],
      "metadata": {
        "colab": {
          "base_uri": "https://localhost:8080/"
        },
        "id": "pBRJphDHWfpP",
        "outputId": "a38b8a13-742e-4cc4-ad4c-f1758e42b6bb"
      },
      "execution_count": null,
      "outputs": [
        {
          "output_type": "stream",
          "name": "stdout",
          "text": [
            "토크나이저 불러오는 중...\n",
            "토크나이저 불러오기 성공\n",
            "korscibert 불러오는 중...\n"
          ]
        },
        {
          "output_type": "stream",
          "name": "stderr",
          "text": [
            "Some weights of the model checkpoint at /content/drive/MyDrive/kisti_baseline/pytorch_model.bin were not used when initializing BertModel: ['cls.predictions.bias', 'cls.seq_relationship.weight', 'cls.seq_relationship.bias', 'cls.predictions.transform.LayerNorm.weight', 'cls.predictions.decoder.bias', 'cls.predictions.transform.dense.weight', 'cls.predictions.decoder.weight', 'cls.predictions.transform.dense.bias', 'cls.predictions.transform.LayerNorm.bias']\n",
            "- This IS expected if you are initializing BertModel from the checkpoint of a model trained on another task or with another architecture (e.g. initializing a BertForSequenceClassification model from a BertForPreTraining model).\n",
            "- This IS NOT expected if you are initializing BertModel from the checkpoint of a model that you expect to be exactly identical (initializing a BertForSequenceClassification model from a BertForSequenceClassification model).\n"
          ]
        },
        {
          "output_type": "stream",
          "name": "stdout",
          "text": [
            "korscibert 불러오기 성공\n"
          ]
        },
        {
          "output_type": "stream",
          "name": "stderr",
          "text": [
            "read_data: 140000it [00:02, 54480.85it/s]\n",
            "convert_data2dataset: 100%|██████████| 140000/140000 [04:42<00:00, 495.30it/s]\n",
            "read_data: 15740it [00:01, 12177.84it/s]\n",
            "convert_data2dataset: 100%|██████████| 15740/15740 [00:31<00:00, 505.64it/s]\n",
            "/usr/local/lib/python3.7/dist-packages/transformers/optimization.py:310: FutureWarning: This implementation of AdamW is deprecated and will be removed in a future version. Use the PyTorch implementation torch.optim.AdamW instead, or set `no_deprecation_warning=True` to disable this warning\n",
            "  FutureWarning,\n"
          ]
        },
        {
          "output_type": "stream",
          "name": "stdout",
          "text": [
            "['model.embeddings.word_embeddings.weight', 'model.embeddings.position_embeddings.weight', 'model.embeddings.token_type_embeddings.weight', 'model.embeddings.LayerNorm.weight', 'model.embeddings.LayerNorm.bias', 'model.encoder.layer.0.attention.self.query.weight', 'model.encoder.layer.0.attention.self.query.bias', 'model.encoder.layer.0.attention.self.key.weight', 'model.encoder.layer.0.attention.self.key.bias', 'model.encoder.layer.0.attention.self.value.weight', 'model.encoder.layer.0.attention.self.value.bias', 'model.encoder.layer.0.attention.output.dense.weight', 'model.encoder.layer.0.attention.output.dense.bias', 'model.encoder.layer.0.attention.output.LayerNorm.weight', 'model.encoder.layer.0.attention.output.LayerNorm.bias', 'model.encoder.layer.0.intermediate.dense.weight', 'model.encoder.layer.0.intermediate.dense.bias', 'model.encoder.layer.0.output.dense.weight', 'model.encoder.layer.0.output.dense.bias', 'model.encoder.layer.0.output.LayerNorm.weight', 'model.encoder.layer.0.output.LayerNorm.bias', 'model.encoder.layer.1.attention.self.query.weight', 'model.encoder.layer.1.attention.self.query.bias', 'model.encoder.layer.1.attention.self.key.weight', 'model.encoder.layer.1.attention.self.key.bias', 'model.encoder.layer.1.attention.self.value.weight', 'model.encoder.layer.1.attention.self.value.bias', 'model.encoder.layer.1.attention.output.dense.weight', 'model.encoder.layer.1.attention.output.dense.bias', 'model.encoder.layer.1.attention.output.LayerNorm.weight', 'model.encoder.layer.1.attention.output.LayerNorm.bias', 'model.encoder.layer.1.intermediate.dense.weight', 'model.encoder.layer.1.intermediate.dense.bias', 'model.encoder.layer.1.output.dense.weight', 'model.encoder.layer.1.output.dense.bias', 'model.encoder.layer.1.output.LayerNorm.weight', 'model.encoder.layer.1.output.LayerNorm.bias', 'model.encoder.layer.2.attention.self.query.weight', 'model.encoder.layer.2.attention.self.query.bias', 'model.encoder.layer.2.attention.self.key.weight', 'model.encoder.layer.2.attention.self.key.bias', 'model.encoder.layer.2.attention.self.value.weight', 'model.encoder.layer.2.attention.self.value.bias', 'model.encoder.layer.2.attention.output.dense.weight', 'model.encoder.layer.2.attention.output.dense.bias', 'model.encoder.layer.2.attention.output.LayerNorm.weight', 'model.encoder.layer.2.attention.output.LayerNorm.bias', 'model.encoder.layer.2.intermediate.dense.weight', 'model.encoder.layer.2.intermediate.dense.bias', 'model.encoder.layer.2.output.dense.weight', 'model.encoder.layer.2.output.dense.bias', 'model.encoder.layer.2.output.LayerNorm.weight', 'model.encoder.layer.2.output.LayerNorm.bias', 'model.encoder.layer.3.attention.self.query.weight', 'model.encoder.layer.3.attention.self.query.bias', 'model.encoder.layer.3.attention.self.key.weight', 'model.encoder.layer.3.attention.self.key.bias', 'model.encoder.layer.3.attention.self.value.weight', 'model.encoder.layer.3.attention.self.value.bias', 'model.encoder.layer.3.attention.output.dense.weight', 'model.encoder.layer.3.attention.output.dense.bias', 'model.encoder.layer.3.attention.output.LayerNorm.weight', 'model.encoder.layer.3.attention.output.LayerNorm.bias', 'model.encoder.layer.3.intermediate.dense.weight', 'model.encoder.layer.3.intermediate.dense.bias', 'model.encoder.layer.3.output.dense.weight', 'model.encoder.layer.3.output.dense.bias', 'model.encoder.layer.3.output.LayerNorm.weight', 'model.encoder.layer.3.output.LayerNorm.bias', 'model.encoder.layer.4.attention.self.query.weight', 'model.encoder.layer.4.attention.self.query.bias', 'model.encoder.layer.4.attention.self.key.weight', 'model.encoder.layer.4.attention.self.key.bias', 'model.encoder.layer.4.attention.self.value.weight', 'model.encoder.layer.4.attention.self.value.bias', 'model.encoder.layer.4.attention.output.dense.weight', 'model.encoder.layer.4.attention.output.dense.bias', 'model.encoder.layer.4.attention.output.LayerNorm.weight', 'model.encoder.layer.4.attention.output.LayerNorm.bias', 'model.encoder.layer.4.intermediate.dense.weight', 'model.encoder.layer.4.intermediate.dense.bias', 'model.encoder.layer.4.output.dense.weight', 'model.encoder.layer.4.output.dense.bias', 'model.encoder.layer.4.output.LayerNorm.weight', 'model.encoder.layer.4.output.LayerNorm.bias', 'model.encoder.layer.5.attention.self.query.weight', 'model.encoder.layer.5.attention.self.query.bias', 'model.encoder.layer.5.attention.self.key.weight', 'model.encoder.layer.5.attention.self.key.bias', 'model.encoder.layer.5.attention.self.value.weight', 'model.encoder.layer.5.attention.self.value.bias', 'model.encoder.layer.5.attention.output.dense.weight', 'model.encoder.layer.5.attention.output.dense.bias', 'model.encoder.layer.5.attention.output.LayerNorm.weight', 'model.encoder.layer.5.attention.output.LayerNorm.bias', 'model.encoder.layer.5.intermediate.dense.weight', 'model.encoder.layer.5.intermediate.dense.bias', 'model.encoder.layer.5.output.dense.weight', 'model.encoder.layer.5.output.dense.bias', 'model.encoder.layer.5.output.LayerNorm.weight', 'model.encoder.layer.5.output.LayerNorm.bias', 'model.encoder.layer.6.attention.self.query.weight', 'model.encoder.layer.6.attention.self.query.bias', 'model.encoder.layer.6.attention.self.key.weight', 'model.encoder.layer.6.attention.self.key.bias', 'model.encoder.layer.6.attention.self.value.weight', 'model.encoder.layer.6.attention.self.value.bias', 'model.encoder.layer.6.attention.output.dense.weight', 'model.encoder.layer.6.attention.output.dense.bias', 'model.encoder.layer.6.attention.output.LayerNorm.weight', 'model.encoder.layer.6.attention.output.LayerNorm.bias', 'model.encoder.layer.6.intermediate.dense.weight', 'model.encoder.layer.6.intermediate.dense.bias', 'model.encoder.layer.6.output.dense.weight', 'model.encoder.layer.6.output.dense.bias', 'model.encoder.layer.6.output.LayerNorm.weight', 'model.encoder.layer.6.output.LayerNorm.bias', 'model.encoder.layer.7.attention.self.query.weight', 'model.encoder.layer.7.attention.self.query.bias', 'model.encoder.layer.7.attention.self.key.weight', 'model.encoder.layer.7.attention.self.key.bias', 'model.encoder.layer.7.attention.self.value.weight', 'model.encoder.layer.7.attention.self.value.bias', 'model.encoder.layer.7.attention.output.dense.weight', 'model.encoder.layer.7.attention.output.dense.bias', 'model.encoder.layer.7.attention.output.LayerNorm.weight', 'model.encoder.layer.7.attention.output.LayerNorm.bias', 'model.encoder.layer.7.intermediate.dense.weight', 'model.encoder.layer.7.intermediate.dense.bias', 'model.encoder.layer.7.output.dense.weight', 'model.encoder.layer.7.output.dense.bias', 'model.encoder.layer.7.output.LayerNorm.weight', 'model.encoder.layer.7.output.LayerNorm.bias', 'model.encoder.layer.8.attention.self.query.weight', 'model.encoder.layer.8.attention.self.query.bias', 'model.encoder.layer.8.attention.self.key.weight', 'model.encoder.layer.8.attention.self.key.bias', 'model.encoder.layer.8.attention.self.value.weight', 'model.encoder.layer.8.attention.self.value.bias', 'model.encoder.layer.8.attention.output.dense.weight', 'model.encoder.layer.8.attention.output.dense.bias', 'model.encoder.layer.8.attention.output.LayerNorm.weight', 'model.encoder.layer.8.attention.output.LayerNorm.bias', 'model.encoder.layer.8.intermediate.dense.weight', 'model.encoder.layer.8.intermediate.dense.bias', 'model.encoder.layer.8.output.dense.weight', 'model.encoder.layer.8.output.dense.bias', 'model.encoder.layer.8.output.LayerNorm.weight', 'model.encoder.layer.8.output.LayerNorm.bias', 'model.encoder.layer.9.attention.self.query.weight', 'model.encoder.layer.9.attention.self.query.bias', 'model.encoder.layer.9.attention.self.key.weight', 'model.encoder.layer.9.attention.self.key.bias', 'model.encoder.layer.9.attention.self.value.weight', 'model.encoder.layer.9.attention.self.value.bias', 'model.encoder.layer.9.attention.output.dense.weight', 'model.encoder.layer.9.attention.output.dense.bias', 'model.encoder.layer.9.attention.output.LayerNorm.weight', 'model.encoder.layer.9.attention.output.LayerNorm.bias', 'model.encoder.layer.9.intermediate.dense.weight', 'model.encoder.layer.9.intermediate.dense.bias', 'model.encoder.layer.9.output.dense.weight', 'model.encoder.layer.9.output.dense.bias', 'model.encoder.layer.9.output.LayerNorm.weight', 'model.encoder.layer.9.output.LayerNorm.bias', 'model.encoder.layer.10.attention.self.query.weight', 'model.encoder.layer.10.attention.self.query.bias', 'model.encoder.layer.10.attention.self.key.weight', 'model.encoder.layer.10.attention.self.key.bias', 'model.encoder.layer.10.attention.self.value.weight', 'model.encoder.layer.10.attention.self.value.bias', 'model.encoder.layer.10.attention.output.dense.weight', 'model.encoder.layer.10.attention.output.dense.bias', 'model.encoder.layer.10.attention.output.LayerNorm.weight', 'model.encoder.layer.10.attention.output.LayerNorm.bias', 'model.encoder.layer.10.intermediate.dense.weight', 'model.encoder.layer.10.intermediate.dense.bias', 'model.encoder.layer.10.output.dense.weight', 'model.encoder.layer.10.output.dense.bias', 'model.encoder.layer.10.output.LayerNorm.weight', 'model.encoder.layer.10.output.LayerNorm.bias', 'model.encoder.layer.11.attention.self.query.weight', 'model.encoder.layer.11.attention.self.query.bias', 'model.encoder.layer.11.attention.self.key.weight', 'model.encoder.layer.11.attention.self.key.bias', 'model.encoder.layer.11.attention.self.value.weight', 'model.encoder.layer.11.attention.self.value.bias', 'model.encoder.layer.11.attention.output.dense.weight', 'model.encoder.layer.11.attention.output.dense.bias', 'model.encoder.layer.11.attention.output.LayerNorm.weight', 'model.encoder.layer.11.attention.output.LayerNorm.bias', 'model.encoder.layer.11.intermediate.dense.weight', 'model.encoder.layer.11.intermediate.dense.bias', 'model.encoder.layer.11.output.dense.weight', 'model.encoder.layer.11.output.dense.bias', 'model.encoder.layer.11.output.LayerNorm.weight', 'model.encoder.layer.11.output.LayerNorm.bias', 'model.pooler.dense.weight', 'model.pooler.dense.bias', 'coarse_emb.weight', 'fine_emb.weight', 'coarse_label_lstm_first.weight_ih_l0', 'coarse_label_lstm_first.weight_hh_l0', 'coarse_label_lstm_first.bias_ih_l0', 'coarse_label_lstm_first.bias_hh_l0', 'coarse_label_lstm_first.weight_ih_l0_reverse', 'coarse_label_lstm_first.weight_hh_l0_reverse', 'coarse_label_lstm_first.bias_ih_l0_reverse', 'coarse_label_lstm_first.bias_hh_l0_reverse', 'coarse_label_lstm_last.weight_ih_l0', 'coarse_label_lstm_last.weight_hh_l0', 'coarse_label_lstm_last.bias_ih_l0', 'coarse_label_lstm_last.bias_hh_l0', 'coarse_label_lstm_last.weight_ih_l0_reverse', 'coarse_label_lstm_last.weight_hh_l0_reverse', 'coarse_label_lstm_last.bias_ih_l0_reverse', 'coarse_label_lstm_last.bias_hh_l0_reverse', 'fine_label_lstm_first.weight_ih_l0', 'fine_label_lstm_first.weight_hh_l0', 'fine_label_lstm_first.bias_ih_l0', 'fine_label_lstm_first.bias_hh_l0', 'fine_label_lstm_first.weight_ih_l0_reverse', 'fine_label_lstm_first.weight_hh_l0_reverse', 'fine_label_lstm_first.bias_ih_l0_reverse', 'fine_label_lstm_first.bias_hh_l0_reverse', 'fine_label_lstm_last.weight_ih_l0', 'fine_label_lstm_last.weight_hh_l0', 'fine_label_lstm_last.bias_ih_l0', 'fine_label_lstm_last.bias_hh_l0', 'fine_label_lstm_last.weight_ih_l0_reverse', 'fine_label_lstm_last.weight_hh_l0_reverse', 'fine_label_lstm_last.bias_ih_l0_reverse', 'fine_label_lstm_last.bias_hh_l0_reverse', 'coarse_q_liner.weight', 'coarse_q_liner.bias', 'coarse_k_liner.weight', 'coarse_k_liner.bias', 'coarse_v_liner.weight', 'coarse_v_liner.bias', 'fine_q_liner.weight', 'fine_q_liner.bias', 'fine_k_liner.weight', 'fine_k_liner.bias', 'fine_v_liner.weight', 'fine_v_liner.bias']\n"
          ]
        },
        {
          "output_type": "stream",
          "name": "stderr",
          "text": [
            "\rdo_train(epoch_1):   0%|          | 0/17500 [00:00<?, ?it/s]"
          ]
        },
        {
          "output_type": "stream",
          "name": "stdout",
          "text": [
            "\tloss :  3.277545\n"
          ]
        },
        {
          "output_type": "stream",
          "name": "stderr",
          "text": [
            "do_train(epoch_1):   2%|▏         | 301/17500 [01:12<1:11:08,  4.03it/s]"
          ]
        },
        {
          "output_type": "stream",
          "name": "stdout",
          "text": [
            "\tloss :  1.381672\n"
          ]
        },
        {
          "output_type": "stream",
          "name": "stderr",
          "text": [
            "do_train(epoch_1):   3%|▎         | 601/17500 [02:28<1:12:47,  3.87it/s]"
          ]
        },
        {
          "output_type": "stream",
          "name": "stdout",
          "text": [
            "\tloss :  0.920935\n"
          ]
        },
        {
          "output_type": "stream",
          "name": "stderr",
          "text": [
            "do_train(epoch_1):   5%|▌         | 901/17500 [03:46<1:11:06,  3.89it/s]"
          ]
        },
        {
          "output_type": "stream",
          "name": "stdout",
          "text": [
            "\tloss :  1.644093\n"
          ]
        },
        {
          "output_type": "stream",
          "name": "stderr",
          "text": [
            "do_train(epoch_1):   7%|▋         | 1201/17500 [05:03<1:09:53,  3.89it/s]"
          ]
        },
        {
          "output_type": "stream",
          "name": "stdout",
          "text": [
            "\tloss :  1.278594\n"
          ]
        },
        {
          "output_type": "stream",
          "name": "stderr",
          "text": [
            "do_train(epoch_1):   9%|▊         | 1501/17500 [06:20<1:09:09,  3.86it/s]"
          ]
        },
        {
          "output_type": "stream",
          "name": "stdout",
          "text": [
            "\tloss :  0.358049\n"
          ]
        },
        {
          "output_type": "stream",
          "name": "stderr",
          "text": [
            "do_train(epoch_1):  10%|█         | 1801/17500 [07:37<1:07:15,  3.89it/s]"
          ]
        },
        {
          "output_type": "stream",
          "name": "stdout",
          "text": [
            "\tloss :  1.265780\n"
          ]
        },
        {
          "output_type": "stream",
          "name": "stderr",
          "text": [
            "do_train(epoch_1):  12%|█▏        | 2101/17500 [08:55<1:05:58,  3.89it/s]"
          ]
        },
        {
          "output_type": "stream",
          "name": "stdout",
          "text": [
            "\tloss :  0.308422\n"
          ]
        },
        {
          "output_type": "stream",
          "name": "stderr",
          "text": [
            "do_train(epoch_1):  14%|█▎        | 2401/17500 [10:12<1:04:57,  3.87it/s]"
          ]
        },
        {
          "output_type": "stream",
          "name": "stdout",
          "text": [
            "\tloss :  1.812021\n"
          ]
        },
        {
          "output_type": "stream",
          "name": "stderr",
          "text": [
            "do_train(epoch_1):  15%|█▌        | 2701/17500 [11:29<1:03:25,  3.89it/s]"
          ]
        },
        {
          "output_type": "stream",
          "name": "stdout",
          "text": [
            "\tloss :  1.382062\n"
          ]
        },
        {
          "output_type": "stream",
          "name": "stderr",
          "text": [
            "do_train(epoch_1):  17%|█▋        | 3001/17500 [12:46<1:01:54,  3.90it/s]"
          ]
        },
        {
          "output_type": "stream",
          "name": "stdout",
          "text": [
            "\tloss :  0.102417\n"
          ]
        },
        {
          "output_type": "stream",
          "name": "stderr",
          "text": [
            "do_train(epoch_1):  19%|█▉        | 3301/17500 [14:03<1:00:58,  3.88it/s]"
          ]
        },
        {
          "output_type": "stream",
          "name": "stdout",
          "text": [
            "\tloss :  0.221210\n"
          ]
        },
        {
          "output_type": "stream",
          "name": "stderr",
          "text": [
            "do_train(epoch_1):  21%|██        | 3601/17500 [15:20<59:18,  3.91it/s]"
          ]
        },
        {
          "output_type": "stream",
          "name": "stdout",
          "text": [
            "\tloss :  0.266277\n"
          ]
        },
        {
          "output_type": "stream",
          "name": "stderr",
          "text": [
            "do_train(epoch_1):  22%|██▏       | 3901/17500 [16:38<57:58,  3.91it/s]"
          ]
        },
        {
          "output_type": "stream",
          "name": "stdout",
          "text": [
            "\tloss :  0.837633\n"
          ]
        },
        {
          "output_type": "stream",
          "name": "stderr",
          "text": [
            "do_train(epoch_1):  24%|██▍       | 4201/17500 [17:55<56:58,  3.89it/s]"
          ]
        },
        {
          "output_type": "stream",
          "name": "stdout",
          "text": [
            "\tloss :  1.265991\n"
          ]
        },
        {
          "output_type": "stream",
          "name": "stderr",
          "text": [
            "do_train(epoch_1):  26%|██▌       | 4501/17500 [19:12<55:50,  3.88it/s]"
          ]
        },
        {
          "output_type": "stream",
          "name": "stdout",
          "text": [
            "\tloss :  0.627298\n"
          ]
        },
        {
          "output_type": "stream",
          "name": "stderr",
          "text": [
            "do_train(epoch_1):  27%|██▋       | 4801/17500 [20:29<54:32,  3.88it/s]"
          ]
        },
        {
          "output_type": "stream",
          "name": "stdout",
          "text": [
            "\tloss :  1.681176\n"
          ]
        },
        {
          "output_type": "stream",
          "name": "stderr",
          "text": [
            "do_train(epoch_1):  29%|██▉       | 5101/17500 [21:46<53:11,  3.89it/s]"
          ]
        },
        {
          "output_type": "stream",
          "name": "stdout",
          "text": [
            "\tloss :  2.588109\n"
          ]
        },
        {
          "output_type": "stream",
          "name": "stderr",
          "text": [
            "do_train(epoch_1):  31%|███       | 5401/17500 [23:04<52:13,  3.86it/s]"
          ]
        },
        {
          "output_type": "stream",
          "name": "stdout",
          "text": [
            "\tloss :  0.637276\n"
          ]
        },
        {
          "output_type": "stream",
          "name": "stderr",
          "text": [
            "do_train(epoch_1):  33%|███▎      | 5701/17500 [24:21<50:38,  3.88it/s]"
          ]
        },
        {
          "output_type": "stream",
          "name": "stdout",
          "text": [
            "\tloss :  0.480773\n"
          ]
        },
        {
          "output_type": "stream",
          "name": "stderr",
          "text": [
            "do_train(epoch_1):  34%|███▍      | 6001/17500 [25:38<49:10,  3.90it/s]"
          ]
        },
        {
          "output_type": "stream",
          "name": "stdout",
          "text": [
            "\tloss :  0.248838\n"
          ]
        },
        {
          "output_type": "stream",
          "name": "stderr",
          "text": [
            "do_train(epoch_1):  36%|███▌      | 6301/17500 [26:55<48:08,  3.88it/s]"
          ]
        },
        {
          "output_type": "stream",
          "name": "stdout",
          "text": [
            "\tloss :  0.237699\n"
          ]
        },
        {
          "output_type": "stream",
          "name": "stderr",
          "text": [
            "do_train(epoch_1):  38%|███▊      | 6601/17500 [28:12<46:18,  3.92it/s]"
          ]
        },
        {
          "output_type": "stream",
          "name": "stdout",
          "text": [
            "\tloss :  0.001593\n"
          ]
        },
        {
          "output_type": "stream",
          "name": "stderr",
          "text": [
            "do_train(epoch_1):  39%|███▉      | 6901/17500 [29:30<45:26,  3.89it/s]"
          ]
        },
        {
          "output_type": "stream",
          "name": "stdout",
          "text": [
            "\tloss :  0.694325\n"
          ]
        },
        {
          "output_type": "stream",
          "name": "stderr",
          "text": [
            "do_train(epoch_1):  41%|████      | 7201/17500 [30:47<44:04,  3.90it/s]"
          ]
        },
        {
          "output_type": "stream",
          "name": "stdout",
          "text": [
            "\tloss :  0.068391\n"
          ]
        },
        {
          "output_type": "stream",
          "name": "stderr",
          "text": [
            "do_train(epoch_1):  43%|████▎     | 7501/17500 [32:04<43:05,  3.87it/s]"
          ]
        },
        {
          "output_type": "stream",
          "name": "stdout",
          "text": [
            "\tloss :  0.262913\n"
          ]
        },
        {
          "output_type": "stream",
          "name": "stderr",
          "text": [
            "do_train(epoch_1):  45%|████▍     | 7801/17500 [33:21<41:30,  3.89it/s]"
          ]
        },
        {
          "output_type": "stream",
          "name": "stdout",
          "text": [
            "\tloss :  0.376558\n"
          ]
        },
        {
          "output_type": "stream",
          "name": "stderr",
          "text": [
            "do_train(epoch_1):  46%|████▋     | 8101/17500 [34:39<40:02,  3.91it/s]"
          ]
        },
        {
          "output_type": "stream",
          "name": "stdout",
          "text": [
            "\tloss :  0.153644\n"
          ]
        },
        {
          "output_type": "stream",
          "name": "stderr",
          "text": [
            "do_train(epoch_1):  48%|████▊     | 8401/17500 [35:56<38:55,  3.90it/s]"
          ]
        },
        {
          "output_type": "stream",
          "name": "stdout",
          "text": [
            "\tloss :  0.421040\n"
          ]
        },
        {
          "output_type": "stream",
          "name": "stderr",
          "text": [
            "do_train(epoch_1):  50%|████▉     | 8701/17500 [37:13<37:41,  3.89it/s]"
          ]
        },
        {
          "output_type": "stream",
          "name": "stdout",
          "text": [
            "\tloss :  2.445020\n"
          ]
        },
        {
          "output_type": "stream",
          "name": "stderr",
          "text": [
            "do_train(epoch_1):  51%|█████▏    | 9001/17500 [38:30<36:24,  3.89it/s]"
          ]
        },
        {
          "output_type": "stream",
          "name": "stdout",
          "text": [
            "\tloss :  0.234633\n"
          ]
        },
        {
          "output_type": "stream",
          "name": "stderr",
          "text": [
            "do_train(epoch_1):  53%|█████▎    | 9301/17500 [39:47<35:07,  3.89it/s]"
          ]
        },
        {
          "output_type": "stream",
          "name": "stdout",
          "text": [
            "\tloss :  0.248255\n"
          ]
        },
        {
          "output_type": "stream",
          "name": "stderr",
          "text": [
            "do_train(epoch_1):  55%|█████▍    | 9601/17500 [41:05<33:59,  3.87it/s]"
          ]
        },
        {
          "output_type": "stream",
          "name": "stdout",
          "text": [
            "\tloss :  0.119291\n"
          ]
        },
        {
          "output_type": "stream",
          "name": "stderr",
          "text": [
            "do_train(epoch_1):  57%|█████▋    | 9901/17500 [42:22<32:34,  3.89it/s]"
          ]
        },
        {
          "output_type": "stream",
          "name": "stdout",
          "text": [
            "\tloss :  0.712565\n"
          ]
        },
        {
          "output_type": "stream",
          "name": "stderr",
          "text": [
            "do_train(epoch_1):  58%|█████▊    | 10201/17500 [43:39<31:22,  3.88it/s]"
          ]
        },
        {
          "output_type": "stream",
          "name": "stdout",
          "text": [
            "\tloss :  0.497710\n"
          ]
        },
        {
          "output_type": "stream",
          "name": "stderr",
          "text": [
            "do_train(epoch_1):  60%|██████    | 10501/17500 [44:57<29:55,  3.90it/s]"
          ]
        },
        {
          "output_type": "stream",
          "name": "stdout",
          "text": [
            "\tloss :  0.021108\n"
          ]
        },
        {
          "output_type": "stream",
          "name": "stderr",
          "text": [
            "do_train(epoch_1):  62%|██████▏   | 10801/17500 [46:14<28:43,  3.89it/s]"
          ]
        },
        {
          "output_type": "stream",
          "name": "stdout",
          "text": [
            "\tloss :  0.371573\n"
          ]
        },
        {
          "output_type": "stream",
          "name": "stderr",
          "text": [
            "do_train(epoch_1):  63%|██████▎   | 11101/17500 [47:31<27:22,  3.90it/s]"
          ]
        },
        {
          "output_type": "stream",
          "name": "stdout",
          "text": [
            "\tloss :  0.045964\n"
          ]
        },
        {
          "output_type": "stream",
          "name": "stderr",
          "text": [
            "do_train(epoch_1):  65%|██████▌   | 11401/17500 [48:48<26:16,  3.87it/s]"
          ]
        },
        {
          "output_type": "stream",
          "name": "stdout",
          "text": [
            "\tloss :  0.753496\n"
          ]
        },
        {
          "output_type": "stream",
          "name": "stderr",
          "text": [
            "do_train(epoch_1):  67%|██████▋   | 11701/17500 [50:05<24:56,  3.88it/s]"
          ]
        },
        {
          "output_type": "stream",
          "name": "stdout",
          "text": [
            "\tloss :  0.334284\n"
          ]
        },
        {
          "output_type": "stream",
          "name": "stderr",
          "text": [
            "do_train(epoch_1):  69%|██████▊   | 12001/17500 [51:23<23:32,  3.89it/s]"
          ]
        },
        {
          "output_type": "stream",
          "name": "stdout",
          "text": [
            "\tloss :  0.009118\n"
          ]
        },
        {
          "output_type": "stream",
          "name": "stderr",
          "text": [
            "do_train(epoch_1):  70%|███████   | 12301/17500 [52:40<22:18,  3.89it/s]"
          ]
        },
        {
          "output_type": "stream",
          "name": "stdout",
          "text": [
            "\tloss :  0.369343\n"
          ]
        },
        {
          "output_type": "stream",
          "name": "stderr",
          "text": [
            "do_train(epoch_1):  72%|███████▏  | 12601/17500 [53:57<21:01,  3.88it/s]"
          ]
        },
        {
          "output_type": "stream",
          "name": "stdout",
          "text": [
            "\tloss :  0.397951\n"
          ]
        },
        {
          "output_type": "stream",
          "name": "stderr",
          "text": [
            "do_train(epoch_1):  74%|███████▎  | 12901/17500 [55:15<19:48,  3.87it/s]"
          ]
        },
        {
          "output_type": "stream",
          "name": "stdout",
          "text": [
            "\tloss :  0.445498\n"
          ]
        },
        {
          "output_type": "stream",
          "name": "stderr",
          "text": [
            "do_train(epoch_1):  75%|███████▌  | 13201/17500 [56:32<18:31,  3.87it/s]"
          ]
        },
        {
          "output_type": "stream",
          "name": "stdout",
          "text": [
            "\tloss :  2.344034\n"
          ]
        },
        {
          "output_type": "stream",
          "name": "stderr",
          "text": [
            "do_train(epoch_1):  77%|███████▋  | 13501/17500 [57:49<17:14,  3.87it/s]"
          ]
        },
        {
          "output_type": "stream",
          "name": "stdout",
          "text": [
            "\tloss :  1.444194\n"
          ]
        },
        {
          "output_type": "stream",
          "name": "stderr",
          "text": [
            "do_train(epoch_1):  79%|███████▉  | 13801/17500 [59:06<15:55,  3.87it/s]"
          ]
        },
        {
          "output_type": "stream",
          "name": "stdout",
          "text": [
            "\tloss :  1.050457\n"
          ]
        },
        {
          "output_type": "stream",
          "name": "stderr",
          "text": [
            "do_train(epoch_1):  81%|████████  | 14101/17500 [1:00:24<14:41,  3.86it/s]"
          ]
        },
        {
          "output_type": "stream",
          "name": "stdout",
          "text": [
            "\tloss :  0.152512\n"
          ]
        },
        {
          "output_type": "stream",
          "name": "stderr",
          "text": [
            "do_train(epoch_1):  82%|████████▏ | 14401/17500 [1:01:41<13:19,  3.88it/s]"
          ]
        },
        {
          "output_type": "stream",
          "name": "stdout",
          "text": [
            "\tloss :  0.676007\n"
          ]
        },
        {
          "output_type": "stream",
          "name": "stderr",
          "text": [
            "do_train(epoch_1):  84%|████████▍ | 14701/17500 [1:02:58<12:02,  3.88it/s]"
          ]
        },
        {
          "output_type": "stream",
          "name": "stdout",
          "text": [
            "\tloss :  0.481242\n"
          ]
        },
        {
          "output_type": "stream",
          "name": "stderr",
          "text": [
            "do_train(epoch_1):  86%|████████▌ | 15001/17500 [1:04:15<10:42,  3.89it/s]"
          ]
        },
        {
          "output_type": "stream",
          "name": "stdout",
          "text": [
            "\tloss :  0.003648\n"
          ]
        },
        {
          "output_type": "stream",
          "name": "stderr",
          "text": [
            "do_train(epoch_1):  87%|████████▋ | 15301/17500 [1:05:33<09:29,  3.86it/s]"
          ]
        },
        {
          "output_type": "stream",
          "name": "stdout",
          "text": [
            "\tloss :  0.895389\n"
          ]
        },
        {
          "output_type": "stream",
          "name": "stderr",
          "text": [
            "do_train(epoch_1):  89%|████████▉ | 15601/17500 [1:06:50<08:06,  3.90it/s]"
          ]
        },
        {
          "output_type": "stream",
          "name": "stdout",
          "text": [
            "\tloss :  0.971044\n"
          ]
        },
        {
          "output_type": "stream",
          "name": "stderr",
          "text": [
            "do_train(epoch_1):  91%|█████████ | 15901/17500 [1:08:07<06:51,  3.89it/s]"
          ]
        },
        {
          "output_type": "stream",
          "name": "stdout",
          "text": [
            "\tloss :  0.186019\n"
          ]
        },
        {
          "output_type": "stream",
          "name": "stderr",
          "text": [
            "do_train(epoch_1):  93%|█████████▎| 16201/17500 [1:09:24<05:33,  3.89it/s]"
          ]
        },
        {
          "output_type": "stream",
          "name": "stdout",
          "text": [
            "\tloss :  0.278043\n"
          ]
        },
        {
          "output_type": "stream",
          "name": "stderr",
          "text": [
            "do_train(epoch_1):  94%|█████████▍| 16501/17500 [1:10:42<04:15,  3.91it/s]"
          ]
        },
        {
          "output_type": "stream",
          "name": "stdout",
          "text": [
            "\tloss :  0.333597\n"
          ]
        },
        {
          "output_type": "stream",
          "name": "stderr",
          "text": [
            "do_train(epoch_1):  96%|█████████▌| 16801/17500 [1:11:59<03:01,  3.86it/s]"
          ]
        },
        {
          "output_type": "stream",
          "name": "stdout",
          "text": [
            "\tloss :  0.030978\n"
          ]
        },
        {
          "output_type": "stream",
          "name": "stderr",
          "text": [
            "do_train(epoch_1):  98%|█████████▊| 17101/17500 [1:13:16<01:42,  3.90it/s]"
          ]
        },
        {
          "output_type": "stream",
          "name": "stdout",
          "text": [
            "\tloss :  0.152538\n"
          ]
        },
        {
          "output_type": "stream",
          "name": "stderr",
          "text": [
            "do_train(epoch_1):  99%|█████████▉| 17401/17500 [1:14:34<00:25,  3.89it/s]"
          ]
        },
        {
          "output_type": "stream",
          "name": "stdout",
          "text": [
            "\tloss :  1.129233\n"
          ]
        },
        {
          "output_type": "stream",
          "name": "stderr",
          "text": [
            "do_train(epoch_1): 100%|██████████| 17500/17500 [1:14:59<00:00,  3.89it/s]\n"
          ]
        },
        {
          "output_type": "stream",
          "name": "stdout",
          "text": [
            "average_loss : 0.6987\n",
            "\n",
            "train_coarse_accuracy :\t0.942386\t\n",
            "train_coarse_precision :\t0.933553\t\n",
            "train_coarse_recall :\t\t0.937381\t\n",
            "train_coarse_f1 :\t\t\t0.935342\t\n",
            "\n",
            "train_fine_accuracy :\t0.840407\t\n",
            "train_fine_precision :\t0.827423\t\n",
            "train_fine_recall :\t\t0.839123\t\n",
            "train_fine_f1 :\t\t\t0.831716\t\n",
            "\n",
            "train_coarse_fine_accuracy :\t0.826257\t\n"
          ]
        },
        {
          "output_type": "stream",
          "name": "stderr",
          "text": [
            "do_evaluate: 100%|██████████| 1312/1312 [02:33<00:00,  8.57it/s]\n"
          ]
        },
        {
          "output_type": "stream",
          "name": "stdout",
          "text": [
            "test_coarse_accuracy :\t0.959339\t\n",
            "test_coarse_precision :\t0.950957\t\n",
            "test_coarse_recall :\t\t0.956483\t\n",
            "test_coarse_f1 :\t\t\t0.953624\t\n",
            "\n",
            "test_fine_accuracy :\t0.893329\t\n",
            "test_fine_precision :\t0.902367\t\n",
            "test_fine_recall :\t\t0.892645\t\n",
            "test_fine_f1 :\t\t\t0.896812\t\n",
            "\n",
            "test_coarse_fine_accuracy :\t0.891614\t\n",
            "max_test_coarse_f1 :\t\t 0.953624\n",
            "max_test_coarse_accuracy :\t\t 0.959339\n",
            "max_test_fine_f1 :\t\t 0.896812\n",
            "max_test_fine_accuracy :\t\t 0.893329\n"
          ]
        },
        {
          "output_type": "stream",
          "name": "stderr",
          "text": [
            "\rdo_train(epoch_2):   0%|          | 0/17500 [00:00<?, ?it/s]"
          ]
        },
        {
          "output_type": "stream",
          "name": "stdout",
          "text": [
            "\tloss :  0.139690\n"
          ]
        },
        {
          "output_type": "stream",
          "name": "stderr",
          "text": [
            "do_train(epoch_2):   2%|▏         | 301/17500 [01:17<1:13:30,  3.90it/s]"
          ]
        },
        {
          "output_type": "stream",
          "name": "stdout",
          "text": [
            "\tloss :  1.370194\n"
          ]
        },
        {
          "output_type": "stream",
          "name": "stderr",
          "text": [
            "do_train(epoch_2):   3%|▎         | 601/17500 [02:34<1:12:31,  3.88it/s]"
          ]
        },
        {
          "output_type": "stream",
          "name": "stdout",
          "text": [
            "\tloss :  0.413573\n"
          ]
        },
        {
          "output_type": "stream",
          "name": "stderr",
          "text": [
            "do_train(epoch_2):   5%|▌         | 901/17500 [03:51<1:10:44,  3.91it/s]"
          ]
        },
        {
          "output_type": "stream",
          "name": "stdout",
          "text": [
            "\tloss :  0.417893\n"
          ]
        },
        {
          "output_type": "stream",
          "name": "stderr",
          "text": [
            "do_train(epoch_2):   7%|▋         | 1201/17500 [05:08<1:09:36,  3.90it/s]"
          ]
        },
        {
          "output_type": "stream",
          "name": "stdout",
          "text": [
            "\tloss :  0.936500\n"
          ]
        },
        {
          "output_type": "stream",
          "name": "stderr",
          "text": [
            "do_train(epoch_2):   9%|▊         | 1501/17500 [06:25<1:08:44,  3.88it/s]"
          ]
        },
        {
          "output_type": "stream",
          "name": "stdout",
          "text": [
            "\tloss :  0.136209\n"
          ]
        },
        {
          "output_type": "stream",
          "name": "stderr",
          "text": [
            "do_train(epoch_2):  10%|█         | 1801/17500 [07:41<1:06:42,  3.92it/s]"
          ]
        },
        {
          "output_type": "stream",
          "name": "stdout",
          "text": [
            "\tloss :  0.139631\n"
          ]
        },
        {
          "output_type": "stream",
          "name": "stderr",
          "text": [
            "do_train(epoch_2):  12%|█▏        | 2101/17500 [08:58<1:05:59,  3.89it/s]"
          ]
        },
        {
          "output_type": "stream",
          "name": "stdout",
          "text": [
            "\tloss :  0.415644\n"
          ]
        },
        {
          "output_type": "stream",
          "name": "stderr",
          "text": [
            "do_train(epoch_2):  14%|█▎        | 2401/17500 [10:15<1:04:22,  3.91it/s]"
          ]
        },
        {
          "output_type": "stream",
          "name": "stdout",
          "text": [
            "\tloss :  0.009827\n"
          ]
        },
        {
          "output_type": "stream",
          "name": "stderr",
          "text": [
            "do_train(epoch_2):  15%|█▌        | 2701/17500 [11:32<1:03:27,  3.89it/s]"
          ]
        },
        {
          "output_type": "stream",
          "name": "stdout",
          "text": [
            "\tloss :  2.923464\n"
          ]
        },
        {
          "output_type": "stream",
          "name": "stderr",
          "text": [
            "do_train(epoch_2):  17%|█▋        | 3001/17500 [12:49<1:02:14,  3.88it/s]"
          ]
        },
        {
          "output_type": "stream",
          "name": "stdout",
          "text": [
            "\tloss :  0.338011\n"
          ]
        },
        {
          "output_type": "stream",
          "name": "stderr",
          "text": [
            "do_train(epoch_2):  19%|█▉        | 3301/17500 [14:06<1:00:53,  3.89it/s]"
          ]
        },
        {
          "output_type": "stream",
          "name": "stdout",
          "text": [
            "\tloss :  1.675021\n"
          ]
        },
        {
          "output_type": "stream",
          "name": "stderr",
          "text": [
            "do_train(epoch_2):  21%|██        | 3601/17500 [15:23<59:42,  3.88it/s]"
          ]
        },
        {
          "output_type": "stream",
          "name": "stdout",
          "text": [
            "\tloss :  0.821941\n"
          ]
        },
        {
          "output_type": "stream",
          "name": "stderr",
          "text": [
            "do_train(epoch_2):  22%|██▏       | 3901/17500 [16:40<58:02,  3.90it/s]"
          ]
        },
        {
          "output_type": "stream",
          "name": "stdout",
          "text": [
            "\tloss :  0.661585\n"
          ]
        },
        {
          "output_type": "stream",
          "name": "stderr",
          "text": [
            "do_train(epoch_2):  24%|██▍       | 4201/17500 [17:57<56:52,  3.90it/s]"
          ]
        },
        {
          "output_type": "stream",
          "name": "stdout",
          "text": [
            "\tloss :  0.305150\n"
          ]
        },
        {
          "output_type": "stream",
          "name": "stderr",
          "text": [
            "do_train(epoch_2):  26%|██▌       | 4501/17500 [19:14<56:04,  3.86it/s]"
          ]
        },
        {
          "output_type": "stream",
          "name": "stdout",
          "text": [
            "\tloss :  0.024307\n"
          ]
        },
        {
          "output_type": "stream",
          "name": "stderr",
          "text": [
            "do_train(epoch_2):  27%|██▋       | 4801/17500 [20:31<54:09,  3.91it/s]"
          ]
        },
        {
          "output_type": "stream",
          "name": "stdout",
          "text": [
            "\tloss :  0.110218\n"
          ]
        },
        {
          "output_type": "stream",
          "name": "stderr",
          "text": [
            "do_train(epoch_2):  28%|██▊       | 4971/17500 [21:15<53:25,  3.91it/s]"
          ]
        }
      ]
    },
    {
      "cell_type": "code",
      "source": [
        "!nvidia-smi"
      ],
      "metadata": {
        "id": "h2SM_kAk3UbL"
      },
      "execution_count": null,
      "outputs": []
    }
  ]
}